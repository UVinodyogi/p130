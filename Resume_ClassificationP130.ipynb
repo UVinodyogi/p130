{
 "cells": [
  {
   "cell_type": "code",
   "execution_count": 1,
   "id": "3ee0e016",
   "metadata": {},
   "outputs": [
    {
     "name": "stderr",
     "output_type": "stream",
     "text": [
      "WARNING: Ignoring invalid distribution -treamlit (c:\\users\\admin\\anaconda3\\lib\\site-packages)\n",
      "WARNING: Ignoring invalid distribution -illow (c:\\users\\admin\\anaconda3\\lib\\site-packages)\n",
      "WARNING: Ignoring invalid distribution -treamlit (c:\\users\\admin\\anaconda3\\lib\\site-packages)\n",
      "WARNING: Ignoring invalid distribution -illow (c:\\users\\admin\\anaconda3\\lib\\site-packages)\n",
      "WARNING: Ignoring invalid distribution -treamlit (c:\\users\\admin\\anaconda3\\lib\\site-packages)\n",
      "WARNING: Ignoring invalid distribution -illow (c:\\users\\admin\\anaconda3\\lib\\site-packages)\n",
      "WARNING: Ignoring invalid distribution -treamlit (c:\\users\\admin\\anaconda3\\lib\\site-packages)\n",
      "WARNING: Ignoring invalid distribution -illow (c:\\users\\admin\\anaconda3\\lib\\site-packages)\n",
      "WARNING: Ignoring invalid distribution -treamlit (c:\\users\\admin\\anaconda3\\lib\\site-packages)\n",
      "WARNING: Ignoring invalid distribution -illow (c:\\users\\admin\\anaconda3\\lib\\site-packages)\n",
      "WARNING: Ignoring invalid distribution -treamlit (c:\\users\\admin\\anaconda3\\lib\\site-packages)\n",
      "WARNING: Ignoring invalid distribution -illow (c:\\users\\admin\\anaconda3\\lib\\site-packages)\n"
     ]
    },
    {
     "name": "stdout",
     "output_type": "stream",
     "text": [
      "Requirement already satisfied: python-docx in c:\\users\\admin\\anaconda3\\lib\\site-packages (0.8.11)\n",
      "Requirement already satisfied: lxml>=2.3.2 in c:\\users\\admin\\anaconda3\\lib\\site-packages (from python-docx) (4.6.3)\n"
     ]
    },
    {
     "name": "stderr",
     "output_type": "stream",
     "text": [
      "[nltk_data] Error loading stopwords: <urlopen error [Errno 11001]\n",
      "[nltk_data]     getaddrinfo failed>\n",
      "[nltk_data] Error loading punkt: <urlopen error [Errno 11001]\n",
      "[nltk_data]     getaddrinfo failed>\n"
     ]
    }
   ],
   "source": [
    "!pip install python-docx\n",
    "import os\n",
    "import docx\n",
    "import PyPDF2\n",
    "import io \n",
    "import nltk\n",
    "nltk.download('stopwords')\n",
    "nltk.download('punkt')\n",
    "from nltk.corpus import stopwords\n",
    "from nltk.tokenize import word_tokenize \n",
    "import pandas as pd\n"
   ]
  },
  {
   "cell_type": "code",
   "execution_count": 2,
   "id": "e6b117c4",
   "metadata": {},
   "outputs": [
    {
     "name": "stdout",
     "output_type": "stream",
     "text": [
      "Requirement already satisfied: aspose-words==22.7 in c:\\users\\admin\\anaconda3\\lib\\site-packages (22.7.0)\n"
     ]
    },
    {
     "name": "stderr",
     "output_type": "stream",
     "text": [
      "WARNING: Ignoring invalid distribution -treamlit (c:\\users\\admin\\anaconda3\\lib\\site-packages)\n",
      "WARNING: Ignoring invalid distribution -illow (c:\\users\\admin\\anaconda3\\lib\\site-packages)\n",
      "WARNING: Ignoring invalid distribution -treamlit (c:\\users\\admin\\anaconda3\\lib\\site-packages)\n",
      "WARNING: Ignoring invalid distribution -illow (c:\\users\\admin\\anaconda3\\lib\\site-packages)\n",
      "WARNING: Ignoring invalid distribution -treamlit (c:\\users\\admin\\anaconda3\\lib\\site-packages)\n",
      "WARNING: Ignoring invalid distribution -illow (c:\\users\\admin\\anaconda3\\lib\\site-packages)\n",
      "WARNING: Ignoring invalid distribution -treamlit (c:\\users\\admin\\anaconda3\\lib\\site-packages)\n",
      "WARNING: Ignoring invalid distribution -illow (c:\\users\\admin\\anaconda3\\lib\\site-packages)\n",
      "WARNING: Ignoring invalid distribution -treamlit (c:\\users\\admin\\anaconda3\\lib\\site-packages)\n",
      "WARNING: Ignoring invalid distribution -illow (c:\\users\\admin\\anaconda3\\lib\\site-packages)\n",
      "WARNING: Ignoring invalid distribution -treamlit (c:\\users\\admin\\anaconda3\\lib\\site-packages)\n",
      "WARNING: Ignoring invalid distribution -illow (c:\\users\\admin\\anaconda3\\lib\\site-packages)\n"
     ]
    },
    {
     "name": "stdout",
     "output_type": "stream",
     "text": [
      "Requirement already satisfied: aspose-cells==22.7 in c:\\users\\admin\\anaconda3\\lib\\site-packages (22.7.0)\n",
      "Requirement already satisfied: JPype1>=1.2.1 in c:\\users\\admin\\anaconda3\\lib\\site-packages (from aspose-cells==22.7) (1.4.0)\n"
     ]
    },
    {
     "name": "stderr",
     "output_type": "stream",
     "text": [
      "WARNING: Ignoring invalid distribution -treamlit (c:\\users\\admin\\anaconda3\\lib\\site-packages)\n",
      "WARNING: Ignoring invalid distribution -illow (c:\\users\\admin\\anaconda3\\lib\\site-packages)\n",
      "WARNING: Ignoring invalid distribution -treamlit (c:\\users\\admin\\anaconda3\\lib\\site-packages)\n",
      "WARNING: Ignoring invalid distribution -illow (c:\\users\\admin\\anaconda3\\lib\\site-packages)\n",
      "WARNING: Ignoring invalid distribution -treamlit (c:\\users\\admin\\anaconda3\\lib\\site-packages)\n",
      "WARNING: Ignoring invalid distribution -illow (c:\\users\\admin\\anaconda3\\lib\\site-packages)\n",
      "WARNING: Ignoring invalid distribution -treamlit (c:\\users\\admin\\anaconda3\\lib\\site-packages)\n",
      "WARNING: Ignoring invalid distribution -illow (c:\\users\\admin\\anaconda3\\lib\\site-packages)\n",
      "WARNING: Ignoring invalid distribution -treamlit (c:\\users\\admin\\anaconda3\\lib\\site-packages)\n",
      "WARNING: Ignoring invalid distribution -illow (c:\\users\\admin\\anaconda3\\lib\\site-packages)\n",
      "WARNING: Ignoring invalid distribution -treamlit (c:\\users\\admin\\anaconda3\\lib\\site-packages)\n",
      "WARNING: Ignoring invalid distribution -illow (c:\\users\\admin\\anaconda3\\lib\\site-packages)\n"
     ]
    }
   ],
   "source": [
    "!pip install aspose-words==22.7\n",
    "!pip install aspose-cells==22.7\n",
    "import warnings\n",
    "warnings.filterwarnings('ignore')"
   ]
  },
  {
   "cell_type": "code",
   "execution_count": 3,
   "id": "5f4df7d0",
   "metadata": {},
   "outputs": [],
   "source": [
    "\n",
    "# Function to extract text from resume\n",
    "def getText(filename):\n",
    "      \n",
    "    # Create empty string \n",
    "    fullText = ''\n",
    "    if filename.endswith('.docx'):\n",
    "        doc = docx.Document(filename)\n",
    "        \n",
    "        for para in doc.paragraphs:\n",
    "            fullText = fullText + para.text\n",
    "            \n",
    "           \n",
    "    elif filename.endswith('.pdf'):  \n",
    "        with open(filename, \"rb\") as pdf_file:\n",
    "            pdoc = PyPDF2.PdfFileReader(filename)\n",
    "            number_of_pages = pdoc.getNumPages()\n",
    "            page = pdoc.pages[0]\n",
    "            page_content = page.extractText()\n",
    "             \n",
    "        for paragraph in page_content:\n",
    "            fullText =  fullText + paragraph\n",
    "            \n",
    "    else:\n",
    "        try:\n",
    "            import aspose.words as aw\n",
    "            output = aw.Document()\n",
    "        # Remove all content from the destination document before appending.\n",
    "            output.remove_all_children()\n",
    "            input = aw.Document(filename)\n",
    "        # Append the source document to the end of the destination document.\n",
    "            output.append_document(input, aw.ImportFormatMode.KEEP_SOURCE_FORMATTING)\n",
    "            output.save(\"Output.docx\");\n",
    "            doc = docx.Document('Output.docx')\n",
    "        \n",
    "            for para in doc.paragraphs:\n",
    "                fullText = fullText + para.text\n",
    "            fullText = fullText[79:]\n",
    "        except:\n",
    "            filename.endswith(\".zip\")\n",
    "         \n",
    "    return (fullText)"
   ]
  },
  {
   "cell_type": "code",
   "execution_count": 4,
   "id": "ec81775d",
   "metadata": {},
   "outputs": [],
   "source": [
    "# Function to remove punctuation and tokenize the text\n",
    "def tokenText(extText):\n",
    "   \n",
    "    # Remove punctuation marks\n",
    "    punc = '''!()-[]{};:'\"\\,.<>/?@#$%^&*_~'''\n",
    "    puncText=\" \"\n",
    "    for ele in extText:\n",
    "        if ele in punc:\n",
    "            puncText= extText.replace(ele, \"\")\n",
    "            #print(puncText)\n",
    "    # Tokenize the text and remove stop words\n",
    "    stop_words = set(stopwords.words('english'))\n",
    "    puncText.split()\n",
    "    word_tokens = word_tokenize(puncText)\n",
    "    TokenizedText = [w for w in word_tokens if not w.lower() in stop_words]\n",
    "    TokenizedText = []\n",
    "  \n",
    "    for w in word_tokens:\n",
    "        if w not in stop_words:\n",
    "            TokenizedText.append(w)\n",
    "    return(TokenizedText)"
   ]
  },
  {
   "cell_type": "code",
   "execution_count": 5,
   "id": "bcece1c2",
   "metadata": {},
   "outputs": [],
   "source": [
    "# Define key terms dictionary for fixing Role Applied for \n",
    "terms = {'WorkDay ERP':['workday', 'workday consultant', 'workday hcm', 'eib', 'picof', \n",
    "                        'workday studio','nnbound/outbound integrations'],\n",
    "         'Peoplesoft':['peoplesoft', 'pia','ccb','birt','peci','ccw','pum','people tools',\n",
    "                        'peoplesoft implementation','peoplesoft components',\n",
    "                        'peoplesoft dba','peoplesoft admin','peoplesoft admin/dba','peopleSoft fscm', \n",
    "                        'peopletoolsupgrade','peopletools upgrade','process scheduler servers',\n",
    "                        'peoplesoft hrms','peopleSoft consultant','peoplesoft cloud',\n",
    "                        'PeopleSoft migrations','eoplesoft Testing Framework','pure internet architecture'],             \n",
    "         'Database Developer':['sql','sql server', 'ms sql server','msbi', 'sql developer', 'ssis','ssrs',\n",
    "                        'ssms','t-sql','tsql','Razorsql', 'razor sql','triggers','powerbi','power bi',\n",
    "                        'oracle sql', 'pl/sql', 'pl\\sql','oracle', 'oracle 11g','oledb','cte','ddl',\n",
    "                        'dml','etl','mariadb','maria db'],\n",
    "         'Java Developer':['reactjs', 'react js', 'react js developer', 'html', 'React JS'\n",
    "                        'css3','xml','javascript','html5','boostrap','jquery', 'redux','php', 'node js',\n",
    "                        'nodejs','apache','netbeans','nestjs','nest js','react developer','react hooks',\n",
    "                        'jenkins']}"
   ]
  },
  {
   "cell_type": "code",
   "execution_count": 6,
   "id": "38fa48fd",
   "metadata": {},
   "outputs": [],
   "source": [
    "# List of all key terms to indicate skillset. Include all the key words in the list \n",
    "allTerms = ['workday', 'hcm', 'eib', 'picof','workday hcm',\n",
    "                        'workday studio','nnbound/outbound integrations',\n",
    "                        'peoplesoft', 'pia','ccb','birt','peci','ccw','pum','people tools',\n",
    "                        'peoplesoft implementation','peoplesoft components',\n",
    "                        'peoplesoft dba','peoplesoft admin','peoplesoft admin/dba','peopleSoft fscm', \n",
    "                        'peopletoolsupgrade','peopletools upgrade','process scheduler servers',\n",
    "                        'peoplesoft hrms','peopleSoft consultant','peopledoft cloud',\n",
    "                        'PeopleSoft migrations','eoplesoft Testing Framework','pure internet architecture',\n",
    "                        'sql','sql server', 'ms sql server','msbi', 'sql developer', 'ssis','ssrs',\n",
    "                        'ssms','t-sql','tsql','Razorsql', 'razor sql','triggers','powerbi','power bi',\n",
    "                        'oracle sql', 'pl/sql', 'pl\\sql','oracle', 'oracle 11g','oledb','cte','ddl',\n",
    "                        'dml','etl','mariadb','maria db','reactjs', 'react js', 'react js developer', 'html', \n",
    "                        'css3','xml','javascript','html5','boostrap','jquery', 'redux','php', 'node js',\n",
    "                        'nodejs','apache','netbeans','nestjs','nest js','react developer','react hooks',\n",
    "                        'jenkins']"
   ]
  },
  {
   "cell_type": "code",
   "execution_count": 7,
   "id": "9490310d",
   "metadata": {},
   "outputs": [],
   "source": [
    "# Function to read the tokenized text and search for the key words to dermine the Role Applied for\n",
    "def roleApplied (Text):\n",
    "    \n",
    "    # covert the text to lower case\n",
    "    for i in range(len(Text)):\n",
    "        Text[i] = Text[i].lower()\n",
    "    \n",
    "    # Obtain the scores for each area\n",
    "    for area in terms.keys():\n",
    "        if area == 'WorkDay ERP':\n",
    "            for word in terms[area]:\n",
    "                if word in Text:\n",
    "                    role = area\n",
    "                    return (role)\n",
    "                \n",
    "        elif area == 'Peoplesoft':\n",
    "            for word in terms[area]:\n",
    "                if word in Text:\n",
    "                    role = area\n",
    "                    return(role)   \n",
    "                \n",
    "        elif area == 'Database Developer':\n",
    "            for word in terms[area]:\n",
    "                if word in Text:\n",
    "                    role =  area\n",
    "                    return(role)\n",
    "            \n",
    "        elif area == 'Java Developer':\n",
    "             for word in terms[area]:\n",
    "                if word in Text:\n",
    "                    role = area\n",
    "                    return(role)\n",
    "        else:\n",
    "            role = \"Fresher\"\n",
    "            return(role)\n",
    "   # return(role)"
   ]
  },
  {
   "cell_type": "code",
   "execution_count": 8,
   "id": "2393f3d6",
   "metadata": {},
   "outputs": [],
   "source": [
    "# Function to extract Name and contact details\n",
    "def contactDetails(Text):\n",
    "    name = ''  \n",
    "    for i in range(0,3):\n",
    "        name = \" \".join([name,Text[i]])\n",
    "    return(name)"
   ]
  },
  {
   "cell_type": "code",
   "execution_count": 9,
   "id": "9cdebe99",
   "metadata": {},
   "outputs": [],
   "source": [
    "# Function to extract experience details\n",
    "def expDetails(Text):\n",
    "    global sent\n",
    "   \n",
    "    Text = Text.split()\n",
    "   \n",
    "    for i in range(len(Text)-2):\n",
    "        Text[i].lower()\n",
    "        \n",
    "        if Text[i] ==  'years':\n",
    "            sent =  Text[i-2] + ' ' + Text[i-1] +' ' + Text[i] +' '+ Text[i+1] +' ' + Text[i+2]\n",
    "            return (sent)\n",
    "    \n",
    "            "
   ]
  },
  {
   "cell_type": "code",
   "execution_count": 10,
   "id": "eb0d9d50",
   "metadata": {},
   "outputs": [],
   "source": [
    "# Function to extract skill set details\n",
    "def skillSet(Text):\n",
    "    t = []\n",
    "    for i in range(len(Text)):\n",
    "        if Text[i] in allTerms:\n",
    "            if Text[i] in t:\n",
    "                continue\n",
    "            t.append(Text[i]) \n",
    "    return(t)"
   ]
  },
  {
   "cell_type": "code",
   "execution_count": 11,
   "id": "73fdabb9",
   "metadata": {},
   "outputs": [],
   "source": [
    "# Create an empty Data Frame ResumeText with two columns\n",
    "ResumeText = pd.DataFrame([], columns=['Name','RoleApplied', 'Experience', 'SkillSet','TextInfo'])\n",
    "\n",
    "# Mention the path in your computer where resumes folder is stored\n",
    "path = r\"C:\\Users\\Admin\\Downloads\\Resumes\"\n",
    "text =[]\n",
    "\n",
    "# Search the directory path and loop through the resume documents and callthe function getText\n",
    "for filename in os.listdir(path):\n",
    "    filename = os.path.join(path, filename)\n",
    "    extText = getText(filename)\n",
    "    #print(type(extText))\n",
    "    tokText = tokenText(extText)\n",
    "    #print(extText)\n",
    "    role = roleApplied(tokText)\n",
    "    Name = contactDetails(tokText)\n",
    "    experience = expDetails(extText)\n",
    "    skills = skillSet(tokText)\n",
    "    NewRow = [Name,role,experience, skills,tokText]  \n",
    "    ResumeText.loc[len(ResumeText)] = NewRow"
   ]
  },
  {
   "cell_type": "code",
   "execution_count": 12,
   "id": "caabba98",
   "metadata": {},
   "outputs": [
    {
     "data": {
      "text/html": [
       "<div>\n",
       "<style scoped>\n",
       "    .dataframe tbody tr th:only-of-type {\n",
       "        vertical-align: middle;\n",
       "    }\n",
       "\n",
       "    .dataframe tbody tr th {\n",
       "        vertical-align: top;\n",
       "    }\n",
       "\n",
       "    .dataframe thead th {\n",
       "        text-align: right;\n",
       "    }\n",
       "</style>\n",
       "<table border=\"1\" class=\"dataframe\">\n",
       "  <thead>\n",
       "    <tr style=\"text-align: right;\">\n",
       "      <th></th>\n",
       "      <th>Name</th>\n",
       "      <th>RoleApplied</th>\n",
       "      <th>Experience</th>\n",
       "      <th>SkillSet</th>\n",
       "      <th>TextInfo</th>\n",
       "    </tr>\n",
       "  </thead>\n",
       "  <tbody>\n",
       "    <tr>\n",
       "      <th>0</th>\n",
       "      <td>anil kumar maddukuri</td>\n",
       "      <td>Database Developer</td>\n",
       "      <td>Developer Summary2.4 years of experience</td>\n",
       "      <td>[sql, msbi, ssms, ssis, ssrs, triggers, cte, e...</td>\n",
       "      <td>[anil, kumar, maddukuri, sql, &amp;, msbi, develop...</td>\n",
       "    </tr>\n",
       "    <tr>\n",
       "      <th>1</th>\n",
       "      <td>aradhana tripathi current</td>\n",
       "      <td>Database Developer</td>\n",
       "      <td>than 4 years of working</td>\n",
       "      <td>[sql, mariadb, triggers, ddl, dml, t-sql, ssms]</td>\n",
       "      <td>[aradhana, tripathi, current, location, :, gac...</td>\n",
       "    </tr>\n",
       "    <tr>\n",
       "      <th>2</th>\n",
       "      <td>buddha vamsi career</td>\n",
       "      <td>Database Developer</td>\n",
       "      <td>OBJECTIVE:Have 2.11 years of IT</td>\n",
       "      <td>[sql, oracle, triggers, cte, etl]</td>\n",
       "      <td>[buddha, vamsi, career, objective, :, have, 21...</td>\n",
       "    </tr>\n",
       "    <tr>\n",
       "      <th>3</th>\n",
       "      <td>chinna subbarayudu mdob</td>\n",
       "      <td>WorkDay ERP</td>\n",
       "      <td>around 5.1 years of IT</td>\n",
       "      <td>[workday, hcm, etl, eib, xml, ccw, picof, peci...</td>\n",
       "      <td>[chinna, subbarayudu, mdob, 06thmarch, 1994nat...</td>\n",
       "    </tr>\n",
       "    <tr>\n",
       "      <th>4</th>\n",
       "      <td>gopi krishna reddy</td>\n",
       "      <td>WorkDay ERP</td>\n",
       "      <td>with 3+ years as Workday</td>\n",
       "      <td>[workday, hcm, eib, picof, xml, birt]</td>\n",
       "      <td>[gopi, krishna, reddy, professional, summery, ...</td>\n",
       "    </tr>\n",
       "    <tr>\n",
       "      <th>...</th>\n",
       "      <td>...</td>\n",
       "      <td>...</td>\n",
       "      <td>...</td>\n",
       "      <td>...</td>\n",
       "      <td>...</td>\n",
       "    </tr>\n",
       "    <tr>\n",
       "      <th>74</th>\n",
       "      <td>kumar ssworkday |</td>\n",
       "      <td>WorkDay ERP</td>\n",
       "      <td>Summary:Having 6+ years of experience</td>\n",
       "      <td>[hcm, workday, eib, xml, peci, peoplesoft]</td>\n",
       "      <td>[kumar, ssworkday, |, hcm, |, fcmworkday, cons...</td>\n",
       "    </tr>\n",
       "    <tr>\n",
       "      <th>75</th>\n",
       "      <td>tatikonda kiran kumarcareer</td>\n",
       "      <td>Database Developer</td>\n",
       "      <td>with 3.2 years of total</td>\n",
       "      <td>[sql, cte, t-sql, triggers]</td>\n",
       "      <td>[tatikonda, kiran, kumarcareer, objective, a, ...</td>\n",
       "    </tr>\n",
       "    <tr>\n",
       "      <th>76</th>\n",
       "      <td>venkateswarlu.bworkday consultant having</td>\n",
       "      <td>WorkDay ERP</td>\n",
       "      <td>Having 5.3 years of experience</td>\n",
       "      <td>[workday, hcm, birt, eib, xml]</td>\n",
       "      <td>[venkateswarlu.bworkday, consultant, having, 5...</td>\n",
       "    </tr>\n",
       "    <tr>\n",
       "      <th>77</th>\n",
       "      <td>vinay kumar v</td>\n",
       "      <td>WorkDay ERP</td>\n",
       "      <td>Having 4.2 years of Total</td>\n",
       "      <td>[workday, hcm, eib, xml, peoplesoft]</td>\n",
       "      <td>[vinay, kumar, v, workday, functional, consult...</td>\n",
       "    </tr>\n",
       "    <tr>\n",
       "      <th>78</th>\n",
       "      <td>b vinod kumarobjective</td>\n",
       "      <td>Database Developer</td>\n",
       "      <td>around 2.2 years of IT</td>\n",
       "      <td>[sql, msbi, cte, triggers, ssrs, ssis, etl, t-...</td>\n",
       "      <td>[b, vinod, kumarobjective, :, willing, work, c...</td>\n",
       "    </tr>\n",
       "  </tbody>\n",
       "</table>\n",
       "<p>79 rows × 5 columns</p>\n",
       "</div>"
      ],
      "text/plain": [
       "                                         Name         RoleApplied  \\\n",
       "0                        anil kumar maddukuri  Database Developer   \n",
       "1                   aradhana tripathi current  Database Developer   \n",
       "2                         buddha vamsi career  Database Developer   \n",
       "3                     chinna subbarayudu mdob         WorkDay ERP   \n",
       "4                          gopi krishna reddy         WorkDay ERP   \n",
       "..                                        ...                 ...   \n",
       "74                          kumar ssworkday |         WorkDay ERP   \n",
       "75                tatikonda kiran kumarcareer  Database Developer   \n",
       "76   venkateswarlu.bworkday consultant having         WorkDay ERP   \n",
       "77                              vinay kumar v         WorkDay ERP   \n",
       "78                     b vinod kumarobjective  Database Developer   \n",
       "\n",
       "                                  Experience  \\\n",
       "0   Developer Summary2.4 years of experience   \n",
       "1                    than 4 years of working   \n",
       "2            OBJECTIVE:Have 2.11 years of IT   \n",
       "3                     around 5.1 years of IT   \n",
       "4                   with 3+ years as Workday   \n",
       "..                                       ...   \n",
       "74     Summary:Having 6+ years of experience   \n",
       "75                   with 3.2 years of total   \n",
       "76            Having 5.3 years of experience   \n",
       "77                 Having 4.2 years of Total   \n",
       "78                    around 2.2 years of IT   \n",
       "\n",
       "                                             SkillSet  \\\n",
       "0   [sql, msbi, ssms, ssis, ssrs, triggers, cte, e...   \n",
       "1     [sql, mariadb, triggers, ddl, dml, t-sql, ssms]   \n",
       "2                   [sql, oracle, triggers, cte, etl]   \n",
       "3   [workday, hcm, etl, eib, xml, ccw, picof, peci...   \n",
       "4               [workday, hcm, eib, picof, xml, birt]   \n",
       "..                                                ...   \n",
       "74         [hcm, workday, eib, xml, peci, peoplesoft]   \n",
       "75                        [sql, cte, t-sql, triggers]   \n",
       "76                     [workday, hcm, birt, eib, xml]   \n",
       "77               [workday, hcm, eib, xml, peoplesoft]   \n",
       "78  [sql, msbi, cte, triggers, ssrs, ssis, etl, t-...   \n",
       "\n",
       "                                             TextInfo  \n",
       "0   [anil, kumar, maddukuri, sql, &, msbi, develop...  \n",
       "1   [aradhana, tripathi, current, location, :, gac...  \n",
       "2   [buddha, vamsi, career, objective, :, have, 21...  \n",
       "3   [chinna, subbarayudu, mdob, 06thmarch, 1994nat...  \n",
       "4   [gopi, krishna, reddy, professional, summery, ...  \n",
       "..                                                ...  \n",
       "74  [kumar, ssworkday, |, hcm, |, fcmworkday, cons...  \n",
       "75  [tatikonda, kiran, kumarcareer, objective, a, ...  \n",
       "76  [venkateswarlu.bworkday, consultant, having, 5...  \n",
       "77  [vinay, kumar, v, workday, functional, consult...  \n",
       "78  [b, vinod, kumarobjective, :, willing, work, c...  \n",
       "\n",
       "[79 rows x 5 columns]"
      ]
     },
     "execution_count": 12,
     "metadata": {},
     "output_type": "execute_result"
    }
   ],
   "source": [
    "ResumeText"
   ]
  },
  {
   "cell_type": "code",
   "execution_count": 13,
   "id": "ec9db43e",
   "metadata": {},
   "outputs": [
    {
     "data": {
      "text/plain": [
       "(79, 5)"
      ]
     },
     "execution_count": 13,
     "metadata": {},
     "output_type": "execute_result"
    }
   ],
   "source": [
    "ResumeText.shape"
   ]
  },
  {
   "cell_type": "code",
   "execution_count": 14,
   "id": "dee36913",
   "metadata": {},
   "outputs": [
    {
     "data": {
      "text/html": [
       "<div>\n",
       "<style scoped>\n",
       "    .dataframe tbody tr th:only-of-type {\n",
       "        vertical-align: middle;\n",
       "    }\n",
       "\n",
       "    .dataframe tbody tr th {\n",
       "        vertical-align: top;\n",
       "    }\n",
       "\n",
       "    .dataframe thead th {\n",
       "        text-align: right;\n",
       "    }\n",
       "</style>\n",
       "<table border=\"1\" class=\"dataframe\">\n",
       "  <thead>\n",
       "    <tr style=\"text-align: right;\">\n",
       "      <th></th>\n",
       "      <th>Name</th>\n",
       "      <th>RoleApplied</th>\n",
       "      <th>Experience</th>\n",
       "      <th>SkillSet</th>\n",
       "      <th>TextInfo</th>\n",
       "    </tr>\n",
       "  </thead>\n",
       "  <tbody>\n",
       "    <tr>\n",
       "      <th>59</th>\n",
       "      <td>anjani priyadarshini react</td>\n",
       "      <td>None</td>\n",
       "      <td>developer 9 years of experienceThis</td>\n",
       "      <td>[]</td>\n",
       "      <td>[anjani, priyadarshini, react, js, developer, ...</td>\n",
       "    </tr>\n",
       "    <tr>\n",
       "      <th>61</th>\n",
       "      <td>venkatalakshmi pedireddy software</td>\n",
       "      <td>None</td>\n",
       "      <td>ReactJSExperience 3 years in React</td>\n",
       "      <td>[]</td>\n",
       "      <td>[venkatalakshmi, pedireddy, software, develope...</td>\n",
       "    </tr>\n",
       "  </tbody>\n",
       "</table>\n",
       "</div>"
      ],
      "text/plain": [
       "                                  Name RoleApplied  \\\n",
       "59          anjani priyadarshini react        None   \n",
       "61   venkatalakshmi pedireddy software        None   \n",
       "\n",
       "                             Experience SkillSet  \\\n",
       "59  developer 9 years of experienceThis       []   \n",
       "61   ReactJSExperience 3 years in React       []   \n",
       "\n",
       "                                             TextInfo  \n",
       "59  [anjani, priyadarshini, react, js, developer, ...  \n",
       "61  [venkatalakshmi, pedireddy, software, develope...  "
      ]
     },
     "execution_count": 14,
     "metadata": {},
     "output_type": "execute_result"
    }
   ],
   "source": [
    "ResumeText[ResumeText['RoleApplied'].isna()]"
   ]
  },
  {
   "cell_type": "code",
   "execution_count": 15,
   "id": "dfde61bc",
   "metadata": {},
   "outputs": [
    {
     "data": {
      "text/html": [
       "<div>\n",
       "<style scoped>\n",
       "    .dataframe tbody tr th:only-of-type {\n",
       "        vertical-align: middle;\n",
       "    }\n",
       "\n",
       "    .dataframe tbody tr th {\n",
       "        vertical-align: top;\n",
       "    }\n",
       "\n",
       "    .dataframe thead th {\n",
       "        text-align: right;\n",
       "    }\n",
       "</style>\n",
       "<table border=\"1\" class=\"dataframe\">\n",
       "  <thead>\n",
       "    <tr style=\"text-align: right;\">\n",
       "      <th></th>\n",
       "      <th>Name</th>\n",
       "      <th>RoleApplied</th>\n",
       "      <th>Experience</th>\n",
       "      <th>SkillSet</th>\n",
       "      <th>TextInfo</th>\n",
       "    </tr>\n",
       "  </thead>\n",
       "  <tbody>\n",
       "  </tbody>\n",
       "</table>\n",
       "</div>"
      ],
      "text/plain": [
       "Empty DataFrame\n",
       "Columns: [Name, RoleApplied, Experience, SkillSet, TextInfo]\n",
       "Index: []"
      ]
     },
     "execution_count": 15,
     "metadata": {},
     "output_type": "execute_result"
    }
   ],
   "source": [
    "ResumeText[ResumeText['Name'].isna()]"
   ]
  },
  {
   "cell_type": "code",
   "execution_count": 16,
   "id": "9cfe2f61",
   "metadata": {},
   "outputs": [
    {
     "data": {
      "text/html": [
       "<div>\n",
       "<style scoped>\n",
       "    .dataframe tbody tr th:only-of-type {\n",
       "        vertical-align: middle;\n",
       "    }\n",
       "\n",
       "    .dataframe tbody tr th {\n",
       "        vertical-align: top;\n",
       "    }\n",
       "\n",
       "    .dataframe thead th {\n",
       "        text-align: right;\n",
       "    }\n",
       "</style>\n",
       "<table border=\"1\" class=\"dataframe\">\n",
       "  <thead>\n",
       "    <tr style=\"text-align: right;\">\n",
       "      <th></th>\n",
       "      <th>Name</th>\n",
       "      <th>RoleApplied</th>\n",
       "      <th>Experience</th>\n",
       "      <th>SkillSet</th>\n",
       "      <th>TextInfo</th>\n",
       "    </tr>\n",
       "  </thead>\n",
       "  <tbody>\n",
       "  </tbody>\n",
       "</table>\n",
       "</div>"
      ],
      "text/plain": [
       "Empty DataFrame\n",
       "Columns: [Name, RoleApplied, Experience, SkillSet, TextInfo]\n",
       "Index: []"
      ]
     },
     "execution_count": 16,
     "metadata": {},
     "output_type": "execute_result"
    }
   ],
   "source": [
    "ResumeText[ResumeText['SkillSet'].isna()]"
   ]
  },
  {
   "cell_type": "code",
   "execution_count": 17,
   "id": "20f561d4",
   "metadata": {},
   "outputs": [
    {
     "data": {
      "text/html": [
       "<div>\n",
       "<style scoped>\n",
       "    .dataframe tbody tr th:only-of-type {\n",
       "        vertical-align: middle;\n",
       "    }\n",
       "\n",
       "    .dataframe tbody tr th {\n",
       "        vertical-align: top;\n",
       "    }\n",
       "\n",
       "    .dataframe thead th {\n",
       "        text-align: right;\n",
       "    }\n",
       "</style>\n",
       "<table border=\"1\" class=\"dataframe\">\n",
       "  <thead>\n",
       "    <tr style=\"text-align: right;\">\n",
       "      <th></th>\n",
       "      <th>Name</th>\n",
       "      <th>RoleApplied</th>\n",
       "      <th>Experience</th>\n",
       "      <th>SkillSet</th>\n",
       "      <th>TextInfo</th>\n",
       "    </tr>\n",
       "  </thead>\n",
       "  <tbody>\n",
       "  </tbody>\n",
       "</table>\n",
       "</div>"
      ],
      "text/plain": [
       "Empty DataFrame\n",
       "Columns: [Name, RoleApplied, Experience, SkillSet, TextInfo]\n",
       "Index: []"
      ]
     },
     "execution_count": 17,
     "metadata": {},
     "output_type": "execute_result"
    }
   ],
   "source": [
    "ResumeText[ResumeText['TextInfo'].isna()]"
   ]
  },
  {
   "cell_type": "code",
   "execution_count": 18,
   "id": "01fe6d08",
   "metadata": {},
   "outputs": [
    {
     "data": {
      "text/plain": [
       "WorkDay ERP           21\n",
       "Peoplesoft            20\n",
       "Database Developer    19\n",
       "Java Developer        17\n",
       "Name: RoleApplied, dtype: int64"
      ]
     },
     "execution_count": 18,
     "metadata": {},
     "output_type": "execute_result"
    }
   ],
   "source": [
    "ResumeText['RoleApplied'].value_counts()"
   ]
  },
  {
   "cell_type": "code",
   "execution_count": 19,
   "id": "e7fd84b7",
   "metadata": {},
   "outputs": [
    {
     "data": {
      "text/plain": [
       "(array([1., 0., 0., 0., 0., 1., 0., 1., 0., 1.]),\n",
       " array([17. , 17.4, 17.8, 18.2, 18.6, 19. , 19.4, 19.8, 20.2, 20.6, 21. ]),\n",
       " <BarContainer object of 10 artists>)"
      ]
     },
     "execution_count": 19,
     "metadata": {},
     "output_type": "execute_result"
    },
    {
     "data": {
      "image/png": "[encoded data removed]",
      "text/plain": [
       "<Figure size 432x288 with 1 Axes>"
      ]
     },
     "metadata": {
      "needs_background": "light"
     },
     "output_type": "display_data"
    }
   ],
   "source": [
    "import matplotlib.pyplot as plt\n",
    "plt.hist(ResumeText['RoleApplied'].value_counts())"
   ]
  },
  {
   "cell_type": "code",
   "execution_count": 20,
   "id": "0761a12d",
   "metadata": {},
   "outputs": [
    {
     "data": {
      "image/png": "[encoded data removed]",
      "text/plain": [
       "<Figure size 720x576 with 1 Axes>"
      ]
     },
     "metadata": {},
     "output_type": "display_data"
    }
   ],
   "source": [
    "import matplotlib.pyplot as plt\n",
    "plt.figure(figsize=(10,8))\n",
    "ResumeText['RoleApplied'].value_counts(sort=False).plot.pie()\n",
    "plt.show()"
   ]
  },
  {
   "cell_type": "code",
   "execution_count": 21,
   "id": "784863ba",
   "metadata": {},
   "outputs": [
    {
     "data": {
      "text/html": [
       "<div>\n",
       "<style scoped>\n",
       "    .dataframe tbody tr th:only-of-type {\n",
       "        vertical-align: middle;\n",
       "    }\n",
       "\n",
       "    .dataframe tbody tr th {\n",
       "        vertical-align: top;\n",
       "    }\n",
       "\n",
       "    .dataframe thead th {\n",
       "        text-align: right;\n",
       "    }\n",
       "</style>\n",
       "<table border=\"1\" class=\"dataframe\">\n",
       "  <thead>\n",
       "    <tr style=\"text-align: right;\">\n",
       "      <th></th>\n",
       "      <th>Name</th>\n",
       "      <th>RoleApplied</th>\n",
       "      <th>Experience</th>\n",
       "      <th>SkillSet</th>\n",
       "      <th>TextInfo</th>\n",
       "    </tr>\n",
       "  </thead>\n",
       "  <tbody>\n",
       "    <tr>\n",
       "      <th>59</th>\n",
       "      <td>anjani priyadarshini react</td>\n",
       "      <td>None</td>\n",
       "      <td>developer 9 years of experienceThis</td>\n",
       "      <td>[]</td>\n",
       "      <td>[anjani, priyadarshini, react, js, developer, ...</td>\n",
       "    </tr>\n",
       "    <tr>\n",
       "      <th>61</th>\n",
       "      <td>venkatalakshmi pedireddy software</td>\n",
       "      <td>None</td>\n",
       "      <td>ReactJSExperience 3 years in React</td>\n",
       "      <td>[]</td>\n",
       "      <td>[venkatalakshmi, pedireddy, software, develope...</td>\n",
       "    </tr>\n",
       "  </tbody>\n",
       "</table>\n",
       "</div>"
      ],
      "text/plain": [
       "                                  Name RoleApplied  \\\n",
       "59          anjani priyadarshini react        None   \n",
       "61   venkatalakshmi pedireddy software        None   \n",
       "\n",
       "                             Experience SkillSet  \\\n",
       "59  developer 9 years of experienceThis       []   \n",
       "61   ReactJSExperience 3 years in React       []   \n",
       "\n",
       "                                             TextInfo  \n",
       "59  [anjani, priyadarshini, react, js, developer, ...  \n",
       "61  [venkatalakshmi, pedireddy, software, develope...  "
      ]
     },
     "execution_count": 21,
     "metadata": {},
     "output_type": "execute_result"
    }
   ],
   "source": [
    "emptyseries = pd.isnull(ResumeText[\"RoleApplied\"])\n",
    "#emptyseries.dtype\n",
    "ResumeText[emptyseries]"
   ]
  },
  {
   "cell_type": "code",
   "execution_count": 22,
   "id": "fa53fa80",
   "metadata": {},
   "outputs": [
    {
     "data": {
      "text/html": [
       "<div>\n",
       "<style scoped>\n",
       "    .dataframe tbody tr th:only-of-type {\n",
       "        vertical-align: middle;\n",
       "    }\n",
       "\n",
       "    .dataframe tbody tr th {\n",
       "        vertical-align: top;\n",
       "    }\n",
       "\n",
       "    .dataframe thead th {\n",
       "        text-align: right;\n",
       "    }\n",
       "</style>\n",
       "<table border=\"1\" class=\"dataframe\">\n",
       "  <thead>\n",
       "    <tr style=\"text-align: right;\">\n",
       "      <th></th>\n",
       "      <th>Name</th>\n",
       "      <th>RoleApplied</th>\n",
       "      <th>Experience</th>\n",
       "      <th>SkillSet</th>\n",
       "      <th>TextInfo</th>\n",
       "    </tr>\n",
       "  </thead>\n",
       "  <tbody>\n",
       "    <tr>\n",
       "      <th>9</th>\n",
       "      <td>ravali p curriculum</td>\n",
       "      <td>Database Developer</td>\n",
       "      <td>None</td>\n",
       "      <td>[sql]</td>\n",
       "      <td>[ravali, p, curriculum, vitae, specialization,...</td>\n",
       "    </tr>\n",
       "    <tr>\n",
       "      <th>10</th>\n",
       "      <td>susovan bag seeking</td>\n",
       "      <td>Database Developer</td>\n",
       "      <td>None</td>\n",
       "      <td>[html, sql]</td>\n",
       "      <td>[susovan, bag, seeking, challenging, position,...</td>\n",
       "    </tr>\n",
       "    <tr>\n",
       "      <th>40</th>\n",
       "      <td>priyanka l sql</td>\n",
       "      <td>Database Developer</td>\n",
       "      <td>None</td>\n",
       "      <td>[sql, ddl, dml, cte, t-sql, triggers, ssis]</td>\n",
       "      <td>[priyanka, l, sql, server, developerprofession...</td>\n",
       "    </tr>\n",
       "    <tr>\n",
       "      <th>49</th>\n",
       "      <td>haripriya battina experience</td>\n",
       "      <td>Database Developer</td>\n",
       "      <td>None</td>\n",
       "      <td>[reactjs, javascript, html, sql]</td>\n",
       "      <td>[haripriya, battina, experience, ui, developer...</td>\n",
       "    </tr>\n",
       "    <tr>\n",
       "      <th>62</th>\n",
       "      <td>kambala sai surendra</td>\n",
       "      <td>Java Developer</td>\n",
       "      <td>None</td>\n",
       "      <td>[redux, html, jquery, javascript]</td>\n",
       "      <td>[kambala, sai, surendra, mandepeta, summary, p...</td>\n",
       "    </tr>\n",
       "    <tr>\n",
       "      <th>65</th>\n",
       "      <td>md khizaruddin rauf</td>\n",
       "      <td>Java Developer</td>\n",
       "      <td>None</td>\n",
       "      <td>[html, redux, javascript]</td>\n",
       "      <td>[md, khizaruddin, rauf, experience, ⇨currently...</td>\n",
       "    </tr>\n",
       "  </tbody>\n",
       "</table>\n",
       "</div>"
      ],
      "text/plain": [
       "                             Name         RoleApplied Experience  \\\n",
       "9             ravali p curriculum  Database Developer       None   \n",
       "10            susovan bag seeking  Database Developer       None   \n",
       "40                 priyanka l sql  Database Developer       None   \n",
       "49   haripriya battina experience  Database Developer       None   \n",
       "62           kambala sai surendra      Java Developer       None   \n",
       "65            md khizaruddin rauf      Java Developer       None   \n",
       "\n",
       "                                       SkillSet  \\\n",
       "9                                         [sql]   \n",
       "10                                  [html, sql]   \n",
       "40  [sql, ddl, dml, cte, t-sql, triggers, ssis]   \n",
       "49             [reactjs, javascript, html, sql]   \n",
       "62            [redux, html, jquery, javascript]   \n",
       "65                    [html, redux, javascript]   \n",
       "\n",
       "                                             TextInfo  \n",
       "9   [ravali, p, curriculum, vitae, specialization,...  \n",
       "10  [susovan, bag, seeking, challenging, position,...  \n",
       "40  [priyanka, l, sql, server, developerprofession...  \n",
       "49  [haripriya, battina, experience, ui, developer...  \n",
       "62  [kambala, sai, surendra, mandepeta, summary, p...  \n",
       "65  [md, khizaruddin, rauf, experience, ⇨currently...  "
      ]
     },
     "execution_count": 22,
     "metadata": {},
     "output_type": "execute_result"
    }
   ],
   "source": [
    "emptyseries = pd.isnull(ResumeText['Experience'])\n",
    "#emptyseries.dtype\n",
    "ResumeText[emptyseries]"
   ]
  },
  {
   "cell_type": "code",
   "execution_count": 23,
   "id": "8a280bef",
   "metadata": {},
   "outputs": [
    {
     "data": {
      "text/html": [
       "<div>\n",
       "<style scoped>\n",
       "    .dataframe tbody tr th:only-of-type {\n",
       "        vertical-align: middle;\n",
       "    }\n",
       "\n",
       "    .dataframe tbody tr th {\n",
       "        vertical-align: top;\n",
       "    }\n",
       "\n",
       "    .dataframe thead th {\n",
       "        text-align: right;\n",
       "    }\n",
       "</style>\n",
       "<table border=\"1\" class=\"dataframe\">\n",
       "  <thead>\n",
       "    <tr style=\"text-align: right;\">\n",
       "      <th></th>\n",
       "      <th>Name</th>\n",
       "      <th>RoleApplied</th>\n",
       "      <th>Experience</th>\n",
       "      <th>SkillSet</th>\n",
       "      <th>TextInfo</th>\n",
       "    </tr>\n",
       "  </thead>\n",
       "  <tbody>\n",
       "    <tr>\n",
       "      <th>48</th>\n",
       "      <td>kanumuru deepak reddycareer</td>\n",
       "      <td>Java Developer</td>\n",
       "      <td>of 2 years from MetroLabs</td>\n",
       "      <td>[html5, css3, javascript, html, redux, reactjs]</td>\n",
       "      <td>[kanumuru, deepak, reddycareer, objective, :, ...</td>\n",
       "    </tr>\n",
       "    <tr>\n",
       "      <th>50</th>\n",
       "      <td>kamalakar reddy .</td>\n",
       "      <td>Java Developer</td>\n",
       "      <td>● 3 years of experience</td>\n",
       "      <td>[html5, css3, javascript, redux, html, reactjs...</td>\n",
       "      <td>[kamalakar, reddy, ., a, linked, in, https//ww...</td>\n",
       "    </tr>\n",
       "    <tr>\n",
       "      <th>53</th>\n",
       "      <td>pragnya pattnaik expertise</td>\n",
       "      <td>Java Developer</td>\n",
       "      <td>around 2 years of experience</td>\n",
       "      <td>[html5, css3, javascript, jquery]</td>\n",
       "      <td>[pragnya, pattnaik, expertise, :, having, arou...</td>\n",
       "    </tr>\n",
       "    <tr>\n",
       "      <th>54</th>\n",
       "      <td>sarala madasu204 ,</td>\n",
       "      <td>Java Developer</td>\n",
       "      <td>layout,nizampet,Hyderabad,500090.Having 3 year...</td>\n",
       "      <td>[javascript, html5, css3, html]</td>\n",
       "      <td>[sarala, madasu204, ,, sri, geethika, prestig...</td>\n",
       "    </tr>\n",
       "    <tr>\n",
       "      <th>55</th>\n",
       "      <td>thirupathamma ballasummary:28 years</td>\n",
       "      <td>Java Developer</td>\n",
       "      <td>Thirupathamma BallaSUMMARY:2.8 years of IT</td>\n",
       "      <td>[javascript]</td>\n",
       "      <td>[thirupathamma, ballasummary:28, years, it, ex...</td>\n",
       "    </tr>\n",
       "    <tr>\n",
       "      <th>56</th>\n",
       "      <td>maryala vinay reddyprofessional</td>\n",
       "      <td>Java Developer</td>\n",
       "      <td>Having 2 years of successful</td>\n",
       "      <td>[reactjs, javascript, html5, css3, html, redux]</td>\n",
       "      <td>[maryala, vinay, reddyprofessional, summary, :...</td>\n",
       "    </tr>\n",
       "    <tr>\n",
       "      <th>57</th>\n",
       "      <td>ui-developer/ react js</td>\n",
       "      <td>Java Developer</td>\n",
       "      <td>all 3.2 years of Extensive</td>\n",
       "      <td>[html, xml, javascript, redux, html5, css3, no...</td>\n",
       "      <td>[ui-developer/, react, js, developer, name, :,...</td>\n",
       "    </tr>\n",
       "    <tr>\n",
       "      <th>58</th>\n",
       "      <td>ui-developer/ react js</td>\n",
       "      <td>Java Developer</td>\n",
       "      <td>all 3.2 years of Extensive</td>\n",
       "      <td>[html, xml, javascript, redux, html5, css3, no...</td>\n",
       "      <td>[ui-developer/, react, js, developer, name, :,...</td>\n",
       "    </tr>\n",
       "    <tr>\n",
       "      <th>60</th>\n",
       "      <td>kotani durga prasadobjective</td>\n",
       "      <td>Java Developer</td>\n",
       "      <td>flexible.Professional Summary:3.1 years of exp...</td>\n",
       "      <td>[html, html5, css3, javascript, jquery]</td>\n",
       "      <td>[kotani, durga, prasadobjective, :, aspirant, ...</td>\n",
       "    </tr>\n",
       "    <tr>\n",
       "      <th>62</th>\n",
       "      <td>kambala sai surendra</td>\n",
       "      <td>Java Developer</td>\n",
       "      <td>None</td>\n",
       "      <td>[redux, html, jquery, javascript]</td>\n",
       "      <td>[kambala, sai, surendra, mandepeta, summary, p...</td>\n",
       "    </tr>\n",
       "    <tr>\n",
       "      <th>63</th>\n",
       "      <td>mareedu lokesh babuprofessional</td>\n",
       "      <td>Java Developer</td>\n",
       "      <td>Around 2 years of experience</td>\n",
       "      <td>[html, javascript, jquery, php]</td>\n",
       "      <td>[mareedu, lokesh, babuprofessional, overview, ...</td>\n",
       "    </tr>\n",
       "    <tr>\n",
       "      <th>64</th>\n",
       "      <td>mareedu lokesh babuprofessional</td>\n",
       "      <td>Java Developer</td>\n",
       "      <td>Around 2 years of experience</td>\n",
       "      <td>[html, javascript, jquery, php]</td>\n",
       "      <td>[mareedu, lokesh, babuprofessional, overview, ...</td>\n",
       "    </tr>\n",
       "    <tr>\n",
       "      <th>65</th>\n",
       "      <td>md khizaruddin rauf</td>\n",
       "      <td>Java Developer</td>\n",
       "      <td>None</td>\n",
       "      <td>[html, redux, javascript]</td>\n",
       "      <td>[md, khizaruddin, rauf, experience, ⇨currently...</td>\n",
       "    </tr>\n",
       "    <tr>\n",
       "      <th>66</th>\n",
       "      <td>page | 1</td>\n",
       "      <td>Java Developer</td>\n",
       "      <td>● 2.4+ years of Professional</td>\n",
       "      <td>[html, reactjs]</td>\n",
       "      <td>[page, |, 1, name, :, m, prabakaran, title, :,...</td>\n",
       "    </tr>\n",
       "    <tr>\n",
       "      <th>67</th>\n",
       "      <td>pranish sonone career</td>\n",
       "      <td>Java Developer</td>\n",
       "      <td>of 1 years &amp; 2</td>\n",
       "      <td>[reactjs, redux, javascript, html5]</td>\n",
       "      <td>[pranish, sonone, career, summaryexperience, 1...</td>\n",
       "    </tr>\n",
       "    <tr>\n",
       "      <th>68</th>\n",
       "      <td>ranga gaganam having</td>\n",
       "      <td>Java Developer</td>\n",
       "      <td>Having 1+ years of successful</td>\n",
       "      <td>[reactjs, javascript, html, html5, css3]</td>\n",
       "      <td>[ranga, gaganam, having, 1+, years, successful...</td>\n",
       "    </tr>\n",
       "    <tr>\n",
       "      <th>69</th>\n",
       "      <td>shaik abdul sharuk</td>\n",
       "      <td>Java Developer</td>\n",
       "      <td>SHARUK 2 years of Experience</td>\n",
       "      <td>[html5, css3, javascript, redux]</td>\n",
       "      <td>[shaik, abdul, sharuk, 2, years, experience, w...</td>\n",
       "    </tr>\n",
       "  </tbody>\n",
       "</table>\n",
       "</div>"
      ],
      "text/plain": [
       "                                    Name     RoleApplied  \\\n",
       "48           kanumuru deepak reddycareer  Java Developer   \n",
       "50                     kamalakar reddy .  Java Developer   \n",
       "53            pragnya pattnaik expertise  Java Developer   \n",
       "54                   sarala madasu204 ,  Java Developer   \n",
       "55   thirupathamma ballasummary:28 years  Java Developer   \n",
       "56       maryala vinay reddyprofessional  Java Developer   \n",
       "57                ui-developer/ react js  Java Developer   \n",
       "58                ui-developer/ react js  Java Developer   \n",
       "60          kotani durga prasadobjective  Java Developer   \n",
       "62                  kambala sai surendra  Java Developer   \n",
       "63       mareedu lokesh babuprofessional  Java Developer   \n",
       "64       mareedu lokesh babuprofessional  Java Developer   \n",
       "65                   md khizaruddin rauf  Java Developer   \n",
       "66                              page | 1  Java Developer   \n",
       "67                 pranish sonone career  Java Developer   \n",
       "68                  ranga gaganam having  Java Developer   \n",
       "69                    shaik abdul sharuk  Java Developer   \n",
       "\n",
       "                                           Experience  \\\n",
       "48                          of 2 years from MetroLabs   \n",
       "50                            ● 3 years of experience   \n",
       "53                       around 2 years of experience   \n",
       "54  layout,nizampet,Hyderabad,500090.Having 3 year...   \n",
       "55         Thirupathamma BallaSUMMARY:2.8 years of IT   \n",
       "56                       Having 2 years of successful   \n",
       "57                         all 3.2 years of Extensive   \n",
       "58                         all 3.2 years of Extensive   \n",
       "60  flexible.Professional Summary:3.1 years of exp...   \n",
       "62                                               None   \n",
       "63                       Around 2 years of experience   \n",
       "64                       Around 2 years of experience   \n",
       "65                                               None   \n",
       "66                       ● 2.4+ years of Professional   \n",
       "67                                     of 1 years & 2   \n",
       "68                      Having 1+ years of successful   \n",
       "69                       SHARUK 2 years of Experience   \n",
       "\n",
       "                                             SkillSet  \\\n",
       "48    [html5, css3, javascript, html, redux, reactjs]   \n",
       "50  [html5, css3, javascript, redux, html, reactjs...   \n",
       "53                  [html5, css3, javascript, jquery]   \n",
       "54                    [javascript, html5, css3, html]   \n",
       "55                                       [javascript]   \n",
       "56    [reactjs, javascript, html5, css3, html, redux]   \n",
       "57  [html, xml, javascript, redux, html5, css3, no...   \n",
       "58  [html, xml, javascript, redux, html5, css3, no...   \n",
       "60            [html, html5, css3, javascript, jquery]   \n",
       "62                  [redux, html, jquery, javascript]   \n",
       "63                    [html, javascript, jquery, php]   \n",
       "64                    [html, javascript, jquery, php]   \n",
       "65                          [html, redux, javascript]   \n",
       "66                                    [html, reactjs]   \n",
       "67                [reactjs, redux, javascript, html5]   \n",
       "68           [reactjs, javascript, html, html5, css3]   \n",
       "69                   [html5, css3, javascript, redux]   \n",
       "\n",
       "                                             TextInfo  \n",
       "48  [kanumuru, deepak, reddycareer, objective, :, ...  \n",
       "50  [kamalakar, reddy, ., a, linked, in, https//ww...  \n",
       "53  [pragnya, pattnaik, expertise, :, having, arou...  \n",
       "54  [sarala, madasu204, ,, sri, geethika, prestig...  \n",
       "55  [thirupathamma, ballasummary:28, years, it, ex...  \n",
       "56  [maryala, vinay, reddyprofessional, summary, :...  \n",
       "57  [ui-developer/, react, js, developer, name, :,...  \n",
       "58  [ui-developer/, react, js, developer, name, :,...  \n",
       "60  [kotani, durga, prasadobjective, :, aspirant, ...  \n",
       "62  [kambala, sai, surendra, mandepeta, summary, p...  \n",
       "63  [mareedu, lokesh, babuprofessional, overview, ...  \n",
       "64  [mareedu, lokesh, babuprofessional, overview, ...  \n",
       "65  [md, khizaruddin, rauf, experience, ⇨currently...  \n",
       "66  [page, |, 1, name, :, m, prabakaran, title, :,...  \n",
       "67  [pranish, sonone, career, summaryexperience, 1...  \n",
       "68  [ranga, gaganam, having, 1+, years, successful...  \n",
       "69  [shaik, abdul, sharuk, 2, years, experience, w...  "
      ]
     },
     "execution_count": 23,
     "metadata": {},
     "output_type": "execute_result"
    }
   ],
   "source": [
    "sqldeveloper = (ResumeText[\"RoleApplied\"] == \"Java Developer\")\n",
    "ResumeText[sqldeveloper]                           "
   ]
  },
  {
   "cell_type": "code",
   "execution_count": 24,
   "id": "e5ba6550",
   "metadata": {},
   "outputs": [],
   "source": [
    "stopwords=stopwords.words(\"english\")"
   ]
  },
  {
   "cell_type": "code",
   "execution_count": 25,
   "id": "f17fbb1d",
   "metadata": {},
   "outputs": [],
   "source": [
    "from nltk.stem.porter import PorterStemmer \n",
    "import re"
   ]
  },
  {
   "cell_type": "code",
   "execution_count": 26,
   "id": "c2b0ebee",
   "metadata": {},
   "outputs": [],
   "source": [
    "ps=PorterStemmer()"
   ]
  },
  {
   "cell_type": "code",
   "execution_count": 27,
   "id": "5e4c343e",
   "metadata": {},
   "outputs": [],
   "source": [
    "def preprocess(x):\n",
    "         x=re.sub('[^a-zA-Z ]', ' ', x)\n",
    "         x=x.lower()\n",
    "         x=x.split()  \n",
    "         x=[word  for word in x if word not in set(stopwords.words('english'))]  \n",
    "         x=[ps.stem(word) for word in x] \n",
    "         x=\" \".join(x)\n",
    "         return x"
   ]
  },
  {
   "cell_type": "code",
   "execution_count": 28,
   "id": "3833e5eb",
   "metadata": {},
   "outputs": [
    {
     "data": {
      "text/html": [
       "<div>\n",
       "<style scoped>\n",
       "    .dataframe tbody tr th:only-of-type {\n",
       "        vertical-align: middle;\n",
       "    }\n",
       "\n",
       "    .dataframe tbody tr th {\n",
       "        vertical-align: top;\n",
       "    }\n",
       "\n",
       "    .dataframe thead th {\n",
       "        text-align: right;\n",
       "    }\n",
       "</style>\n",
       "<table border=\"1\" class=\"dataframe\">\n",
       "  <thead>\n",
       "    <tr style=\"text-align: right;\">\n",
       "      <th></th>\n",
       "      <th>Name</th>\n",
       "      <th>RoleApplied</th>\n",
       "      <th>Experience</th>\n",
       "      <th>SkillSet</th>\n",
       "      <th>TextInfo</th>\n",
       "    </tr>\n",
       "  </thead>\n",
       "  <tbody>\n",
       "    <tr>\n",
       "      <th>0</th>\n",
       "      <td>anil kumar maddukuri</td>\n",
       "      <td>Database Developer</td>\n",
       "      <td>Developer Summary2.4 years of experience</td>\n",
       "      <td>[sql, msbi, ssms, ssis, ssrs, triggers, cte, e...</td>\n",
       "      <td>[anil, kumar, maddukuri, sql, &amp;, msbi, develop...</td>\n",
       "    </tr>\n",
       "    <tr>\n",
       "      <th>1</th>\n",
       "      <td>aradhana tripathi current</td>\n",
       "      <td>Database Developer</td>\n",
       "      <td>than 4 years of working</td>\n",
       "      <td>[sql, mariadb, triggers, ddl, dml, t-sql, ssms]</td>\n",
       "      <td>[aradhana, tripathi, current, location, :, gac...</td>\n",
       "    </tr>\n",
       "    <tr>\n",
       "      <th>2</th>\n",
       "      <td>buddha vamsi career</td>\n",
       "      <td>Database Developer</td>\n",
       "      <td>OBJECTIVE:Have 2.11 years of IT</td>\n",
       "      <td>[sql, oracle, triggers, cte, etl]</td>\n",
       "      <td>[buddha, vamsi, career, objective, :, have, 21...</td>\n",
       "    </tr>\n",
       "    <tr>\n",
       "      <th>3</th>\n",
       "      <td>chinna subbarayudu mdob</td>\n",
       "      <td>WorkDay ERP</td>\n",
       "      <td>around 5.1 years of IT</td>\n",
       "      <td>[workday, hcm, etl, eib, xml, ccw, picof, peci...</td>\n",
       "      <td>[chinna, subbarayudu, mdob, 06thmarch, 1994nat...</td>\n",
       "    </tr>\n",
       "    <tr>\n",
       "      <th>4</th>\n",
       "      <td>gopi krishna reddy</td>\n",
       "      <td>WorkDay ERP</td>\n",
       "      <td>with 3+ years as Workday</td>\n",
       "      <td>[workday, hcm, eib, picof, xml, birt]</td>\n",
       "      <td>[gopi, krishna, reddy, professional, summery, ...</td>\n",
       "    </tr>\n",
       "  </tbody>\n",
       "</table>\n",
       "</div>"
      ],
      "text/plain": [
       "                         Name         RoleApplied  \\\n",
       "0        anil kumar maddukuri  Database Developer   \n",
       "1   aradhana tripathi current  Database Developer   \n",
       "2         buddha vamsi career  Database Developer   \n",
       "3     chinna subbarayudu mdob         WorkDay ERP   \n",
       "4          gopi krishna reddy         WorkDay ERP   \n",
       "\n",
       "                                 Experience  \\\n",
       "0  Developer Summary2.4 years of experience   \n",
       "1                   than 4 years of working   \n",
       "2           OBJECTIVE:Have 2.11 years of IT   \n",
       "3                    around 5.1 years of IT   \n",
       "4                  with 3+ years as Workday   \n",
       "\n",
       "                                            SkillSet  \\\n",
       "0  [sql, msbi, ssms, ssis, ssrs, triggers, cte, e...   \n",
       "1    [sql, mariadb, triggers, ddl, dml, t-sql, ssms]   \n",
       "2                  [sql, oracle, triggers, cte, etl]   \n",
       "3  [workday, hcm, etl, eib, xml, ccw, picof, peci...   \n",
       "4              [workday, hcm, eib, picof, xml, birt]   \n",
       "\n",
       "                                            TextInfo  \n",
       "0  [anil, kumar, maddukuri, sql, &, msbi, develop...  \n",
       "1  [aradhana, tripathi, current, location, :, gac...  \n",
       "2  [buddha, vamsi, career, objective, :, have, 21...  \n",
       "3  [chinna, subbarayudu, mdob, 06thmarch, 1994nat...  \n",
       "4  [gopi, krishna, reddy, professional, summery, ...  "
      ]
     },
     "execution_count": 28,
     "metadata": {},
     "output_type": "execute_result"
    }
   ],
   "source": [
    "ResumeText.head()"
   ]
  },
  {
   "cell_type": "code",
   "execution_count": 29,
   "id": "599adc0a",
   "metadata": {},
   "outputs": [],
   "source": [
    "#tem.review=tem.review.apply(lambda x: [ps.stem(word) for word in x])\n",
    "ResumeText.TextInfo=ResumeText.TextInfo.apply(lambda x: [ps.stem(word) for word in x])"
   ]
  },
  {
   "cell_type": "code",
   "execution_count": 30,
   "id": "9587ce06",
   "metadata": {},
   "outputs": [
    {
     "data": {
      "text/html": [
       "<div>\n",
       "<style scoped>\n",
       "    .dataframe tbody tr th:only-of-type {\n",
       "        vertical-align: middle;\n",
       "    }\n",
       "\n",
       "    .dataframe tbody tr th {\n",
       "        vertical-align: top;\n",
       "    }\n",
       "\n",
       "    .dataframe thead th {\n",
       "        text-align: right;\n",
       "    }\n",
       "</style>\n",
       "<table border=\"1\" class=\"dataframe\">\n",
       "  <thead>\n",
       "    <tr style=\"text-align: right;\">\n",
       "      <th></th>\n",
       "      <th>Name</th>\n",
       "      <th>RoleApplied</th>\n",
       "      <th>Experience</th>\n",
       "      <th>SkillSet</th>\n",
       "      <th>TextInfo</th>\n",
       "    </tr>\n",
       "  </thead>\n",
       "  <tbody>\n",
       "    <tr>\n",
       "      <th>0</th>\n",
       "      <td>anil kumar maddukuri</td>\n",
       "      <td>Database Developer</td>\n",
       "      <td>Developer Summary2.4 years of experience</td>\n",
       "      <td>[sql, msbi, ssms, ssis, ssrs, triggers, cte, e...</td>\n",
       "      <td>[anil, kumar, maddukuri, sql, &amp;, msbi, develop...</td>\n",
       "    </tr>\n",
       "    <tr>\n",
       "      <th>1</th>\n",
       "      <td>aradhana tripathi current</td>\n",
       "      <td>Database Developer</td>\n",
       "      <td>than 4 years of working</td>\n",
       "      <td>[sql, mariadb, triggers, ddl, dml, t-sql, ssms]</td>\n",
       "      <td>[aradhana, tripathi, current, locat, :, gachib...</td>\n",
       "    </tr>\n",
       "    <tr>\n",
       "      <th>2</th>\n",
       "      <td>buddha vamsi career</td>\n",
       "      <td>Database Developer</td>\n",
       "      <td>OBJECTIVE:Have 2.11 years of IT</td>\n",
       "      <td>[sql, oracle, triggers, cte, etl]</td>\n",
       "      <td>[buddha, vamsi, career, object, :, have, 211, ...</td>\n",
       "    </tr>\n",
       "    <tr>\n",
       "      <th>3</th>\n",
       "      <td>chinna subbarayudu mdob</td>\n",
       "      <td>WorkDay ERP</td>\n",
       "      <td>around 5.1 years of IT</td>\n",
       "      <td>[workday, hcm, etl, eib, xml, ccw, picof, peci...</td>\n",
       "      <td>[chinna, subbarayudu, mdob, 06thmarch, 1994nat...</td>\n",
       "    </tr>\n",
       "    <tr>\n",
       "      <th>4</th>\n",
       "      <td>gopi krishna reddy</td>\n",
       "      <td>WorkDay ERP</td>\n",
       "      <td>with 3+ years as Workday</td>\n",
       "      <td>[workday, hcm, eib, picof, xml, birt]</td>\n",
       "      <td>[gopi, krishna, reddi, profession, summeri, :,...</td>\n",
       "    </tr>\n",
       "  </tbody>\n",
       "</table>\n",
       "</div>"
      ],
      "text/plain": [
       "                         Name         RoleApplied  \\\n",
       "0        anil kumar maddukuri  Database Developer   \n",
       "1   aradhana tripathi current  Database Developer   \n",
       "2         buddha vamsi career  Database Developer   \n",
       "3     chinna subbarayudu mdob         WorkDay ERP   \n",
       "4          gopi krishna reddy         WorkDay ERP   \n",
       "\n",
       "                                 Experience  \\\n",
       "0  Developer Summary2.4 years of experience   \n",
       "1                   than 4 years of working   \n",
       "2           OBJECTIVE:Have 2.11 years of IT   \n",
       "3                    around 5.1 years of IT   \n",
       "4                  with 3+ years as Workday   \n",
       "\n",
       "                                            SkillSet  \\\n",
       "0  [sql, msbi, ssms, ssis, ssrs, triggers, cte, e...   \n",
       "1    [sql, mariadb, triggers, ddl, dml, t-sql, ssms]   \n",
       "2                  [sql, oracle, triggers, cte, etl]   \n",
       "3  [workday, hcm, etl, eib, xml, ccw, picof, peci...   \n",
       "4              [workday, hcm, eib, picof, xml, birt]   \n",
       "\n",
       "                                            TextInfo  \n",
       "0  [anil, kumar, maddukuri, sql, &, msbi, develop...  \n",
       "1  [aradhana, tripathi, current, locat, :, gachib...  \n",
       "2  [buddha, vamsi, career, object, :, have, 211, ...  \n",
       "3  [chinna, subbarayudu, mdob, 06thmarch, 1994nat...  \n",
       "4  [gopi, krishna, reddi, profession, summeri, :,...  "
      ]
     },
     "execution_count": 30,
     "metadata": {},
     "output_type": "execute_result"
    }
   ],
   "source": [
    "ResumeText.head()"
   ]
  },
  {
   "cell_type": "code",
   "execution_count": 31,
   "id": "732febb8",
   "metadata": {},
   "outputs": [],
   "source": [
    "from sklearn import preprocessing\n",
    "from sklearn.preprocessing import LabelEncoder\n",
    "lb=preprocessing.LabelEncoder()\n",
    "ResumeText['role']= lb.fit_transform(ResumeText['RoleApplied'])"
   ]
  },
  {
   "cell_type": "code",
   "execution_count": 32,
   "id": "f85a863b",
   "metadata": {},
   "outputs": [],
   "source": [
    "df=pd.DataFrame(ResumeText.drop([\"Name\"],axis=1))\n",
    "df=df.drop([\"RoleApplied\"],axis=1)\n",
    "df=df.drop([\"Experience\"],axis=1)\n",
    "df=df.drop([\"SkillSet\"],axis=1)"
   ]
  },
  {
   "cell_type": "code",
   "execution_count": 33,
   "id": "ca1edf3c",
   "metadata": {},
   "outputs": [
    {
     "data": {
      "text/html": [
       "<div>\n",
       "<style scoped>\n",
       "    .dataframe tbody tr th:only-of-type {\n",
       "        vertical-align: middle;\n",
       "    }\n",
       "\n",
       "    .dataframe tbody tr th {\n",
       "        vertical-align: top;\n",
       "    }\n",
       "\n",
       "    .dataframe thead th {\n",
       "        text-align: right;\n",
       "    }\n",
       "</style>\n",
       "<table border=\"1\" class=\"dataframe\">\n",
       "  <thead>\n",
       "    <tr style=\"text-align: right;\">\n",
       "      <th></th>\n",
       "      <th>TextInfo</th>\n",
       "      <th>role</th>\n",
       "    </tr>\n",
       "  </thead>\n",
       "  <tbody>\n",
       "    <tr>\n",
       "      <th>0</th>\n",
       "      <td>[anil, kumar, maddukuri, sql, &amp;, msbi, develop...</td>\n",
       "      <td>0</td>\n",
       "    </tr>\n",
       "    <tr>\n",
       "      <th>1</th>\n",
       "      <td>[aradhana, tripathi, current, locat, :, gachib...</td>\n",
       "      <td>0</td>\n",
       "    </tr>\n",
       "    <tr>\n",
       "      <th>2</th>\n",
       "      <td>[buddha, vamsi, career, object, :, have, 211, ...</td>\n",
       "      <td>0</td>\n",
       "    </tr>\n",
       "    <tr>\n",
       "      <th>3</th>\n",
       "      <td>[chinna, subbarayudu, mdob, 06thmarch, 1994nat...</td>\n",
       "      <td>3</td>\n",
       "    </tr>\n",
       "    <tr>\n",
       "      <th>4</th>\n",
       "      <td>[gopi, krishna, reddi, profession, summeri, :,...</td>\n",
       "      <td>3</td>\n",
       "    </tr>\n",
       "  </tbody>\n",
       "</table>\n",
       "</div>"
      ],
      "text/plain": [
       "                                            TextInfo  role\n",
       "0  [anil, kumar, maddukuri, sql, &, msbi, develop...     0\n",
       "1  [aradhana, tripathi, current, locat, :, gachib...     0\n",
       "2  [buddha, vamsi, career, object, :, have, 211, ...     0\n",
       "3  [chinna, subbarayudu, mdob, 06thmarch, 1994nat...     3\n",
       "4  [gopi, krishna, reddi, profession, summeri, :,...     3"
      ]
     },
     "execution_count": 33,
     "metadata": {},
     "output_type": "execute_result"
    }
   ],
   "source": [
    "df.head()"
   ]
  },
  {
   "cell_type": "code",
   "execution_count": 34,
   "id": "89e7d654",
   "metadata": {},
   "outputs": [
    {
     "data": {
      "text/plain": [
       "0     0\n",
       "1     0\n",
       "2     0\n",
       "3     3\n",
       "4     3\n",
       "     ..\n",
       "74    3\n",
       "75    0\n",
       "76    3\n",
       "77    3\n",
       "78    0\n",
       "Name: role, Length: 79, dtype: int32"
      ]
     },
     "execution_count": 34,
     "metadata": {},
     "output_type": "execute_result"
    }
   ],
   "source": [
    "df.role"
   ]
  },
  {
   "cell_type": "code",
   "execution_count": 35,
   "id": "bda45e4b",
   "metadata": {},
   "outputs": [],
   "source": [
    "#tem.review=tem.review.apply(lambda x: \" \".join(x))\n",
    "df.TextInfo=df.TextInfo.apply(lambda x: \" \".join(x))"
   ]
  },
  {
   "cell_type": "code",
   "execution_count": 36,
   "id": "ec855899",
   "metadata": {},
   "outputs": [
    {
     "data": {
      "text/html": [
       "<div>\n",
       "<style scoped>\n",
       "    .dataframe tbody tr th:only-of-type {\n",
       "        vertical-align: middle;\n",
       "    }\n",
       "\n",
       "    .dataframe tbody tr th {\n",
       "        vertical-align: top;\n",
       "    }\n",
       "\n",
       "    .dataframe thead th {\n",
       "        text-align: right;\n",
       "    }\n",
       "</style>\n",
       "<table border=\"1\" class=\"dataframe\">\n",
       "  <thead>\n",
       "    <tr style=\"text-align: right;\">\n",
       "      <th></th>\n",
       "      <th>TextInfo</th>\n",
       "      <th>role</th>\n",
       "    </tr>\n",
       "  </thead>\n",
       "  <tbody>\n",
       "    <tr>\n",
       "      <th>0</th>\n",
       "      <td>anil kumar maddukuri sql &amp; msbi develop summar...</td>\n",
       "      <td>0</td>\n",
       "    </tr>\n",
       "    <tr>\n",
       "      <th>1</th>\n",
       "      <td>aradhana tripathi current locat : gachibowli ,...</td>\n",
       "      <td>0</td>\n",
       "    </tr>\n",
       "    <tr>\n",
       "      <th>2</th>\n",
       "      <td>buddha vamsi career object : have 211 year it ...</td>\n",
       "      <td>0</td>\n",
       "    </tr>\n",
       "    <tr>\n",
       "      <th>3</th>\n",
       "      <td>chinna subbarayudu mdob 06thmarch 1994nation i...</td>\n",
       "      <td>3</td>\n",
       "    </tr>\n",
       "    <tr>\n",
       "      <th>4</th>\n",
       "      <td>gopi krishna reddi profession summeri : work w...</td>\n",
       "      <td>3</td>\n",
       "    </tr>\n",
       "  </tbody>\n",
       "</table>\n",
       "</div>"
      ],
      "text/plain": [
       "                                            TextInfo  role\n",
       "0  anil kumar maddukuri sql & msbi develop summar...     0\n",
       "1  aradhana tripathi current locat : gachibowli ,...     0\n",
       "2  buddha vamsi career object : have 211 year it ...     0\n",
       "3  chinna subbarayudu mdob 06thmarch 1994nation i...     3\n",
       "4  gopi krishna reddi profession summeri : work w...     3"
      ]
     },
     "execution_count": 36,
     "metadata": {},
     "output_type": "execute_result"
    }
   ],
   "source": [
    "df.head()"
   ]
  },
  {
   "cell_type": "code",
   "execution_count": 37,
   "id": "1e126a78",
   "metadata": {},
   "outputs": [],
   "source": [
    "import numpy as np\n",
    "a=np.array(df.TextInfo)"
   ]
  },
  {
   "cell_type": "code",
   "execution_count": 38,
   "id": "5938a9dd",
   "metadata": {},
   "outputs": [],
   "source": [
    "from sklearn.feature_extraction.text import CountVectorizer \n",
    "  \n",
    "cv = CountVectorizer()\n",
    "a = cv.fit_transform(a).toarray() \n",
    "a=pd.DataFrame(a,columns=cv.get_feature_names_out())\n"
   ]
  },
  {
   "cell_type": "code",
   "execution_count": 39,
   "id": "3684fe3b",
   "metadata": {},
   "outputs": [],
   "source": [
    "X = cv.fit_transform(df.TextInfo.values).toarray()  \n",
    "X=pd.DataFrame(X,columns=cv.get_feature_names())"
   ]
  },
  {
   "cell_type": "code",
   "execution_count": 40,
   "id": "078f2736",
   "metadata": {},
   "outputs": [
    {
     "data": {
      "text/html": [
       "<div>\n",
       "<style scoped>\n",
       "    .dataframe tbody tr th:only-of-type {\n",
       "        vertical-align: middle;\n",
       "    }\n",
       "\n",
       "    .dataframe tbody tr th {\n",
       "        vertical-align: top;\n",
       "    }\n",
       "\n",
       "    .dataframe thead th {\n",
       "        text-align: right;\n",
       "    }\n",
       "</style>\n",
       "<table border=\"1\" class=\"dataframe\">\n",
       "  <thead>\n",
       "    <tr style=\"text-align: right;\">\n",
       "      <th></th>\n",
       "      <th>000webhostapp</th>\n",
       "      <th>01</th>\n",
       "      <th>02</th>\n",
       "      <th>03</th>\n",
       "      <th>04</th>\n",
       "      <th>04th</th>\n",
       "      <th>04thfeb</th>\n",
       "      <th>05</th>\n",
       "      <th>052015</th>\n",
       "      <th>05th</th>\n",
       "      <th>...</th>\n",
       "      <th>yiiframeworkangularjsmysqlboard</th>\n",
       "      <th>yogi</th>\n",
       "      <th>yonder</th>\n",
       "      <th>york</th>\n",
       "      <th>your</th>\n",
       "      <th>zenefit</th>\n",
       "      <th>zenefitsworkday</th>\n",
       "      <th>zero</th>\n",
       "      <th>zp</th>\n",
       "      <th>ﬁt</th>\n",
       "    </tr>\n",
       "  </thead>\n",
       "  <tbody>\n",
       "    <tr>\n",
       "      <th>0</th>\n",
       "      <td>0</td>\n",
       "      <td>0</td>\n",
       "      <td>0</td>\n",
       "      <td>0</td>\n",
       "      <td>0</td>\n",
       "      <td>0</td>\n",
       "      <td>0</td>\n",
       "      <td>0</td>\n",
       "      <td>0</td>\n",
       "      <td>0</td>\n",
       "      <td>...</td>\n",
       "      <td>0</td>\n",
       "      <td>0</td>\n",
       "      <td>0</td>\n",
       "      <td>0</td>\n",
       "      <td>0</td>\n",
       "      <td>0</td>\n",
       "      <td>0</td>\n",
       "      <td>0</td>\n",
       "      <td>0</td>\n",
       "      <td>0</td>\n",
       "    </tr>\n",
       "    <tr>\n",
       "      <th>1</th>\n",
       "      <td>0</td>\n",
       "      <td>0</td>\n",
       "      <td>0</td>\n",
       "      <td>0</td>\n",
       "      <td>0</td>\n",
       "      <td>0</td>\n",
       "      <td>0</td>\n",
       "      <td>0</td>\n",
       "      <td>0</td>\n",
       "      <td>0</td>\n",
       "      <td>...</td>\n",
       "      <td>0</td>\n",
       "      <td>0</td>\n",
       "      <td>0</td>\n",
       "      <td>0</td>\n",
       "      <td>0</td>\n",
       "      <td>0</td>\n",
       "      <td>0</td>\n",
       "      <td>0</td>\n",
       "      <td>0</td>\n",
       "      <td>0</td>\n",
       "    </tr>\n",
       "    <tr>\n",
       "      <th>2</th>\n",
       "      <td>0</td>\n",
       "      <td>0</td>\n",
       "      <td>0</td>\n",
       "      <td>0</td>\n",
       "      <td>0</td>\n",
       "      <td>0</td>\n",
       "      <td>0</td>\n",
       "      <td>0</td>\n",
       "      <td>0</td>\n",
       "      <td>0</td>\n",
       "      <td>...</td>\n",
       "      <td>0</td>\n",
       "      <td>0</td>\n",
       "      <td>0</td>\n",
       "      <td>0</td>\n",
       "      <td>0</td>\n",
       "      <td>0</td>\n",
       "      <td>0</td>\n",
       "      <td>0</td>\n",
       "      <td>0</td>\n",
       "      <td>0</td>\n",
       "    </tr>\n",
       "    <tr>\n",
       "      <th>3</th>\n",
       "      <td>0</td>\n",
       "      <td>0</td>\n",
       "      <td>0</td>\n",
       "      <td>0</td>\n",
       "      <td>0</td>\n",
       "      <td>0</td>\n",
       "      <td>0</td>\n",
       "      <td>0</td>\n",
       "      <td>0</td>\n",
       "      <td>0</td>\n",
       "      <td>...</td>\n",
       "      <td>0</td>\n",
       "      <td>1</td>\n",
       "      <td>0</td>\n",
       "      <td>0</td>\n",
       "      <td>0</td>\n",
       "      <td>0</td>\n",
       "      <td>0</td>\n",
       "      <td>0</td>\n",
       "      <td>0</td>\n",
       "      <td>0</td>\n",
       "    </tr>\n",
       "    <tr>\n",
       "      <th>4</th>\n",
       "      <td>0</td>\n",
       "      <td>0</td>\n",
       "      <td>0</td>\n",
       "      <td>0</td>\n",
       "      <td>1</td>\n",
       "      <td>0</td>\n",
       "      <td>0</td>\n",
       "      <td>0</td>\n",
       "      <td>0</td>\n",
       "      <td>0</td>\n",
       "      <td>...</td>\n",
       "      <td>0</td>\n",
       "      <td>0</td>\n",
       "      <td>0</td>\n",
       "      <td>0</td>\n",
       "      <td>0</td>\n",
       "      <td>0</td>\n",
       "      <td>0</td>\n",
       "      <td>0</td>\n",
       "      <td>0</td>\n",
       "      <td>0</td>\n",
       "    </tr>\n",
       "  </tbody>\n",
       "</table>\n",
       "<p>5 rows × 5264 columns</p>\n",
       "</div>"
      ],
      "text/plain": [
       "   000webhostapp  01  02  03  04  04th  04thfeb  05  052015  05th  ...  \\\n",
       "0              0   0   0   0   0     0        0   0       0     0  ...   \n",
       "1              0   0   0   0   0     0        0   0       0     0  ...   \n",
       "2              0   0   0   0   0     0        0   0       0     0  ...   \n",
       "3              0   0   0   0   0     0        0   0       0     0  ...   \n",
       "4              0   0   0   0   1     0        0   0       0     0  ...   \n",
       "\n",
       "   yiiframeworkangularjsmysqlboard  yogi  yonder  york  your  zenefit  \\\n",
       "0                                0     0       0     0     0        0   \n",
       "1                                0     0       0     0     0        0   \n",
       "2                                0     0       0     0     0        0   \n",
       "3                                0     1       0     0     0        0   \n",
       "4                                0     0       0     0     0        0   \n",
       "\n",
       "   zenefitsworkday  zero  zp  ﬁt  \n",
       "0                0     0   0   0  \n",
       "1                0     0   0   0  \n",
       "2                0     0   0   0  \n",
       "3                0     0   0   0  \n",
       "4                0     0   0   0  \n",
       "\n",
       "[5 rows x 5264 columns]"
      ]
     },
     "execution_count": 40,
     "metadata": {},
     "output_type": "execute_result"
    }
   ],
   "source": [
    "X.head()"
   ]
  },
  {
   "cell_type": "code",
   "execution_count": 41,
   "id": "bde4db00",
   "metadata": {},
   "outputs": [],
   "source": [
    "from sklearn.model_selection import train_test_split \n",
    "  \n",
    "# experiment with \"test_size\" \n",
    "# to get better results \n",
    "X_train, X_test, y_train, y_test = train_test_split(X, df.role, test_size = 0.3,) "
   ]
  },
  {
   "cell_type": "code",
   "execution_count": 42,
   "id": "ad53e6e6",
   "metadata": {},
   "outputs": [
    {
     "data": {
      "text/plain": [
       "((55, 5264), (24, 5264), (55,), (24,))"
      ]
     },
     "execution_count": 42,
     "metadata": {},
     "output_type": "execute_result"
    }
   ],
   "source": [
    "X_train.shape,X_test.shape ,y_train.shape ,y_test.shape "
   ]
  },
  {
   "cell_type": "code",
   "execution_count": 43,
   "id": "05da71a2",
   "metadata": {},
   "outputs": [],
   "source": [
    "from sklearn.tree import DecisionTreeClassifier # Import Decision Tree Classifier\n",
    "from sklearn.linear_model import LogisticRegression\n",
    "from sklearn.model_selection import train_test_split # Import train_test_split function\n",
    "from sklearn import metrics #Import scikit-learn metrics module for accuracy calculation\n",
    "import seaborn as sns\n",
    "import statsmodels.api as sm\n",
    "from sklearn.svm import SVC\n",
    "from sklearn.ensemble import RandomForestClassifier"
   ]
  },
  {
   "cell_type": "code",
   "execution_count": 44,
   "id": "0be67f55",
   "metadata": {},
   "outputs": [
    {
     "name": "stdout",
     "output_type": "stream",
     "text": [
      "DecisionTreeClassifier() accuracy :: 0.9166666666666666\n",
      "LogisticRegression() accuracy :: 0.8333333333333334\n",
      "SVC() accuracy :: 0.7916666666666666\n",
      "RandomForestClassifier() accuracy :: 0.875\n"
     ]
    }
   ],
   "source": [
    "models=[DecisionTreeClassifier(),LogisticRegression(max_iter=100),SVC(),RandomForestClassifier()]\n",
    "for model in models:\n",
    "    model.fit(X_train,y_train)\n",
    "    y_pred=model.predict(X_test)\n",
    "    print(str(model),\"accuracy ::\",metrics.accuracy_score(y_test,y_pred))"
   ]
  },
  {
   "cell_type": "code",
   "execution_count": 45,
   "id": "7d953f08",
   "metadata": {},
   "outputs": [],
   "source": [
    "from sklearn.feature_extraction.text import TfidfVectorizer"
   ]
  },
  {
   "cell_type": "code",
   "execution_count": 46,
   "id": "bd76e8d4",
   "metadata": {},
   "outputs": [
    {
     "name": "stdout",
     "output_type": "stream",
     "text": [
      "Feature completed .....\n"
     ]
    }
   ],
   "source": [
    "requiredText = df['TextInfo'].values\n",
    "requiredTarget = df['role'].values\n",
    "\n",
    "word_vectorizer = TfidfVectorizer(\n",
    "    sublinear_tf=True,\n",
    "    stop_words='english')\n",
    "word_vectorizer.fit_transform(requiredText).toarray()\n",
    "WordFeatures = word_vectorizer.transform(requiredText)\n",
    "\n",
    "print (\"Feature completed .....\")"
   ]
  },
  {
   "cell_type": "code",
   "execution_count": 47,
   "id": "8af39346",
   "metadata": {},
   "outputs": [],
   "source": [
    "from sklearn.model_selection import train_test_split"
   ]
  },
  {
   "cell_type": "code",
   "execution_count": 48,
   "id": "8a3d0462",
   "metadata": {},
   "outputs": [
    {
     "data": {
      "text/plain": [
       "((55, 5139), (24, 5139))"
      ]
     },
     "execution_count": 48,
     "metadata": {},
     "output_type": "execute_result"
    }
   ],
   "source": [
    "X_train, X_test, y_train, y_test = train_test_split(WordFeatures, requiredTarget, random_state=123, test_size=0.30, shuffle = True, stratify=requiredTarget)\n",
    "X_train.shape, X_test.shape"
   ]
  },
  {
   "cell_type": "code",
   "execution_count": 49,
   "id": "617f872d",
   "metadata": {},
   "outputs": [
    {
     "data": {
      "text/plain": [
       "((55, 5139), (24, 5139), (55,), (24,))"
      ]
     },
     "execution_count": 49,
     "metadata": {},
     "output_type": "execute_result"
    }
   ],
   "source": [
    "X_train.shape,X_test.shape,y_train.shape,y_test.shape"
   ]
  },
  {
   "cell_type": "code",
   "execution_count": 50,
   "id": "86b2ebe4",
   "metadata": {},
   "outputs": [],
   "source": [
    "from sklearn.multiclass import OneVsRestClassifier\n",
    "from sklearn.neighbors import KNeighborsClassifier\n",
    "from sklearn import metrics\n",
    "\n",
    "\n",
    "clf = OneVsRestClassifier(KNeighborsClassifier())\n",
    "clf.fit(X_train,y_train)\n",
    "pred=clf.predict(X_test)"
   ]
  },
  {
   "cell_type": "code",
   "execution_count": 51,
   "id": "dbae15a9",
   "metadata": {},
   "outputs": [
    {
     "data": {
      "text/plain": [
       "(0.8545454545454545, 0.875)"
      ]
     },
     "execution_count": 51,
     "metadata": {},
     "output_type": "execute_result"
    }
   ],
   "source": [
    "clf.score(X_train,y_train),clf.score(X_test,y_test)"
   ]
  },
  {
   "cell_type": "code",
   "execution_count": 52,
   "id": "6e7854fc",
   "metadata": {},
   "outputs": [],
   "source": [
    "from sklearn.naive_bayes import MultinomialNB\n",
    "from sklearn.model_selection import cross_val_score\n",
    "from sklearn.metrics import f1_score,precision_score,confusion_matrix,recall_score\n",
    "from sklearn.ensemble import RandomForestClassifier\n",
    "from sklearn.tree import DecisionTreeClassifier\n",
    "from sklearn.svm import SVC\n",
    "from sklearn.linear_model import LogisticRegression"
   ]
  },
  {
   "cell_type": "code",
   "execution_count": 53,
   "id": "7e75f32c",
   "metadata": {},
   "outputs": [
    {
     "name": "stdout",
     "output_type": "stream",
     "text": [
      "Accuracy of RandomForestClassifier on training set: 1.0000\n",
      "Accuracy of RandomForestClassifier on test set    : 0.9167\n"
     ]
    }
   ],
   "source": [
    "rf_clf = RandomForestClassifier()\n",
    "rf_clf.fit(X_train, y_train)\n",
    "prediction_1 = rf_clf.predict(X_test)\n",
    "print('Accuracy of RandomForestClassifier on training set: {:.4f}'.format(rf_clf.score(X_train, y_train)))\n",
    "print('Accuracy of RandomForestClassifier on test set    : {:.4f}'.format(rf_clf.score(X_test, y_test)))"
   ]
  },
  {
   "cell_type": "code",
   "execution_count": 54,
   "id": "998b2ae7",
   "metadata": {},
   "outputs": [
    {
     "name": "stdout",
     "output_type": "stream",
     "text": [
      "\n",
      " Classification report for Decision Tree Classifier RandomForestClassifier():\n",
      "              precision    recall  f1-score   support\n",
      "\n",
      "           0       1.00      0.83      0.91         6\n",
      "           1       0.71      1.00      0.83         5\n",
      "           2       1.00      1.00      1.00         6\n",
      "           3       1.00      1.00      1.00         6\n",
      "           4       0.00      0.00      0.00         1\n",
      "\n",
      "    accuracy                           0.92        24\n",
      "   macro avg       0.74      0.77      0.75        24\n",
      "weighted avg       0.90      0.92      0.90        24\n",
      "\n",
      "\n"
     ]
    }
   ],
   "source": [
    "print(\"\\n Classification report for Decision Tree Classifier %s:\\n%s\\n\" % (rf_clf, metrics.classification_report(y_test, prediction_1)))"
   ]
  },
  {
   "cell_type": "code",
   "execution_count": 55,
   "id": "c1ec64d8",
   "metadata": {},
   "outputs": [
    {
     "name": "stdout",
     "output_type": "stream",
     "text": [
      "Accuracy of Support Vector Classifier on training set: 0.9818\n",
      "Accuracy of Support Vector Classifier on test set    : 0.8750\n"
     ]
    }
   ],
   "source": [
    "sv_clf = SVC()\n",
    "sv_clf.fit(X_train, y_train)\n",
    "prediction_2 = sv_clf.predict(X_test)\n",
    "print('Accuracy of Support Vector Classifier on training set: {:.4f}'.format(sv_clf.score(X_train, y_train)))\n",
    "print('Accuracy of Support Vector Classifier on test set    : {:.4f}'.format(sv_clf.score(X_test, y_test)))"
   ]
  },
  {
   "cell_type": "code",
   "execution_count": 56,
   "id": "793a1c7c",
   "metadata": {},
   "outputs": [
    {
     "name": "stdout",
     "output_type": "stream",
     "text": [
      "Accuracy of LogisticRegression on training set: 0.9818\n",
      "Accuracy of LogisticRegression on test set    : 0.9583\n"
     ]
    }
   ],
   "source": [
    "log=LogisticRegression()\n",
    "log.fit(X_train,y_train)\n",
    "prediction_3= log.predict(X_test)\n",
    "print('Accuracy of LogisticRegression on training set: {:.4f}'.format(log.score(X_train, y_train)))\n",
    "print('Accuracy of LogisticRegression on test set    : {:.4f}'.format(log.score(X_test, y_test)))"
   ]
  },
  {
   "cell_type": "code",
   "execution_count": 57,
   "id": "38db64df",
   "metadata": {},
   "outputs": [
    {
     "data": {
      "image/png": "[encoded data removed]",
      "text/plain": [
       "<Figure size 640x480 with 1 Axes>"
      ]
     },
     "metadata": {},
     "output_type": "display_data"
    }
   ],
   "source": [
    "#pip install mlxtend\n",
    "from mlxtend.plotting import plot_learning_curves\n",
    "# instantiating the model \n",
    "clf = log\n",
    " \n",
    "# plotting the learning curve\n",
    "plot_learning_curves(X_train=X_train,\n",
    "                     y_train=y_train,\n",
    "                     X_test=X_test,\n",
    "                     y_test=y_test,\n",
    "                     clf=clf,\n",
    "                     scoring=\"misclassification error\",\n",
    "                     suppress_plot=False,\n",
    "                     print_model=True)\n",
    "plt.ylim(top=1.5, bottom=-0.5)\n",
    "plt.xlim(left=0.0, right=100)\n",
    "plt.show()"
   ]
  },
  {
   "cell_type": "code",
   "execution_count": 58,
   "id": "82731da3",
   "metadata": {},
   "outputs": [
    {
     "data": {
      "image/png": "[encoded data removed]",
      "text/plain": [
       "<Figure size 640x480 with 1 Axes>"
      ]
     },
     "metadata": {},
     "output_type": "display_data"
    }
   ],
   "source": [
    "#pip install mlxtend\n",
    "from mlxtend.plotting import plot_learning_curves\n",
    "# instantiating the model \n",
    "clf = sv_clf\n",
    " \n",
    "# plotting the learning curve\n",
    "plot_learning_curves(X_train=X_train,\n",
    "                     y_train=y_train,\n",
    "                     X_test=X_test,\n",
    "                     y_test=y_test,\n",
    "                     clf=clf,\n",
    "                     scoring=\"misclassification error\",\n",
    "                     suppress_plot=False,\n",
    "                     print_model=True)\n",
    "plt.ylim(top=1.5, bottom=-0.5)\n",
    "plt.xlim(left=0.0, right=100)\n",
    "plt.show()"
   ]
  },
  {
   "cell_type": "code",
   "execution_count": 59,
   "id": "8b4686e1",
   "metadata": {},
   "outputs": [
    {
     "data": {
      "image/png": "[encoded data removed]",
      "text/plain": [
       "<Figure size 640x480 with 1 Axes>"
      ]
     },
     "metadata": {},
     "output_type": "display_data"
    }
   ],
   "source": [
    "#pip install mlxtend\n",
    "from mlxtend.plotting import plot_learning_curves\n",
    "# instantiating the model \n",
    "clf = rf_clf\n",
    " \n",
    "# plotting the learning curve\n",
    "plot_learning_curves(X_train=X_train,\n",
    "                     y_train=y_train,\n",
    "                     X_test=X_test,\n",
    "                     y_test=y_test,\n",
    "                     clf=clf,\n",
    "                     scoring=\"misclassification error\",\n",
    "                     suppress_plot=False,\n",
    "                     print_model=True)\n",
    "plt.ylim(top=1.5, bottom=-0.5)\n",
    "plt.xlim(left=0.0, right=100)\n",
    "plt.show()"
   ]
  },
  {
   "cell_type": "code",
   "execution_count": 60,
   "id": "817b3168",
   "metadata": {},
   "outputs": [
    {
     "name": "stdout",
     "output_type": "stream",
     "text": [
      "Requirement already satisfied: pdfplumber in c:\\users\\admin\\appdata\\roaming\\python\\python39\\site-packages (0.7.3)\n",
      "Requirement already satisfied: pdfminer.six==20220524 in c:\\users\\admin\\appdata\\roaming\\python\\python39\\site-packages (from pdfplumber) (20220524)\n",
      "Requirement already satisfied: Wand>=0.6.7 in c:\\users\\admin\\anaconda3\\lib\\site-packages (from pdfplumber) (0.6.8)\n",
      "Requirement already satisfied: Pillow>=9.1 in c:\\users\\admin\\anaconda3\\lib\\site-packages (from pdfplumber) (9.2.0)\n",
      "Requirement already satisfied: charset-normalizer>=2.0.0 in c:\\users\\admin\\anaconda3\\lib\\site-packages (from pdfminer.six==20220524->pdfplumber) (2.0.4)\n",
      "Requirement already satisfied: cryptography>=36.0.0 in c:\\users\\admin\\anaconda3\\lib\\site-packages (from pdfminer.six==20220524->pdfplumber) (37.0.4)\n",
      "Requirement already satisfied: cffi>=1.12 in c:\\users\\admin\\anaconda3\\lib\\site-packages (from cryptography>=36.0.0->pdfminer.six==20220524->pdfplumber) (1.14.6)\n",
      "Requirement already satisfied: pycparser in c:\\users\\admin\\anaconda3\\lib\\site-packages (from cffi>=1.12->cryptography>=36.0.0->pdfminer.six==20220524->pdfplumber) (2.20)\n"
     ]
    },
    {
     "name": "stderr",
     "output_type": "stream",
     "text": [
      "WARNING: Ignoring invalid distribution -treamlit (c:\\users\\admin\\anaconda3\\lib\\site-packages)\n",
      "WARNING: Ignoring invalid distribution -illow (c:\\users\\admin\\anaconda3\\lib\\site-packages)\n",
      "WARNING: Ignoring invalid distribution -treamlit (c:\\users\\admin\\anaconda3\\lib\\site-packages)\n",
      "WARNING: Ignoring invalid distribution -illow (c:\\users\\admin\\anaconda3\\lib\\site-packages)\n",
      "WARNING: Ignoring invalid distribution -treamlit (c:\\users\\admin\\anaconda3\\lib\\site-packages)\n",
      "WARNING: Ignoring invalid distribution -illow (c:\\users\\admin\\anaconda3\\lib\\site-packages)\n",
      "WARNING: Ignoring invalid distribution -treamlit (c:\\users\\admin\\anaconda3\\lib\\site-packages)\n",
      "WARNING: Ignoring invalid distribution -illow (c:\\users\\admin\\anaconda3\\lib\\site-packages)\n",
      "WARNING: Ignoring invalid distribution -treamlit (c:\\users\\admin\\anaconda3\\lib\\site-packages)\n",
      "WARNING: Ignoring invalid distribution -illow (c:\\users\\admin\\anaconda3\\lib\\site-packages)\n",
      "WARNING: Ignoring invalid distribution -treamlit (c:\\users\\admin\\anaconda3\\lib\\site-packages)\n",
      "WARNING: Ignoring invalid distribution -illow (c:\\users\\admin\\anaconda3\\lib\\site-packages)\n"
     ]
    }
   ],
   "source": [
    "!pip install pdfplumber --user"
   ]
  },
  {
   "cell_type": "code",
   "execution_count": 61,
   "id": "d953f091",
   "metadata": {},
   "outputs": [
    {
     "name": "stdout",
     "output_type": "stream",
     "text": [
      "Requirement already satisfied: pikepdf in c:\\users\\admin\\anaconda3\\lib\\site-packages (5.4.0)\n",
      "Requirement already satisfied: lxml>=4.0 in c:\\users\\admin\\anaconda3\\lib\\site-packages (from pikepdf) (4.6.3)\n",
      "Requirement already satisfied: deprecation in c:\\users\\admin\\anaconda3\\lib\\site-packages (from pikepdf) (2.1.0)\n",
      "Requirement already satisfied: Pillow>=6.0 in c:\\users\\admin\\anaconda3\\lib\\site-packages (from pikepdf) (9.2.0)\n",
      "Requirement already satisfied: packaging in c:\\users\\admin\\anaconda3\\lib\\site-packages (from pikepdf) (21.0)\n",
      "Requirement already satisfied: pyparsing>=2.0.2 in c:\\users\\admin\\anaconda3\\lib\\site-packages (from packaging->pikepdf) (3.0.4)\n",
      "Note: you may need to restart the kernel to use updated packages.\n"
     ]
    },
    {
     "name": "stderr",
     "output_type": "stream",
     "text": [
      "WARNING: Ignoring invalid distribution -treamlit (c:\\users\\admin\\anaconda3\\lib\\site-packages)\n",
      "WARNING: Ignoring invalid distribution -illow (c:\\users\\admin\\anaconda3\\lib\\site-packages)\n",
      "WARNING: Ignoring invalid distribution -treamlit (c:\\users\\admin\\anaconda3\\lib\\site-packages)\n",
      "WARNING: Ignoring invalid distribution -illow (c:\\users\\admin\\anaconda3\\lib\\site-packages)\n",
      "WARNING: Ignoring invalid distribution -treamlit (c:\\users\\admin\\anaconda3\\lib\\site-packages)\n",
      "WARNING: Ignoring invalid distribution -illow (c:\\users\\admin\\anaconda3\\lib\\site-packages)\n",
      "WARNING: Ignoring invalid distribution -treamlit (c:\\users\\admin\\anaconda3\\lib\\site-packages)\n",
      "WARNING: Ignoring invalid distribution -illow (c:\\users\\admin\\anaconda3\\lib\\site-packages)\n",
      "WARNING: Ignoring invalid distribution -treamlit (c:\\users\\admin\\anaconda3\\lib\\site-packages)\n",
      "WARNING: Ignoring invalid distribution -illow (c:\\users\\admin\\anaconda3\\lib\\site-packages)\n",
      "WARNING: Ignoring invalid distribution -treamlit (c:\\users\\admin\\anaconda3\\lib\\site-packages)\n",
      "WARNING: Ignoring invalid distribution -illow (c:\\users\\admin\\anaconda3\\lib\\site-packages)\n"
     ]
    }
   ],
   "source": [
    "pip install pikepdf "
   ]
  },
  {
   "cell_type": "code",
   "execution_count": 62,
   "id": "0b847df8",
   "metadata": {},
   "outputs": [
    {
     "name": "stdout",
     "output_type": "stream",
     "text": [
      "Requirement already satisfied: plotly_express in c:\\users\\admin\\anaconda3\\lib\\site-packages (0.4.1)\n",
      "Requirement already satisfied: pandas>=0.20.0 in c:\\users\\admin\\anaconda3\\lib\\site-packages (from plotly_express) (1.3.4)\n",
      "Requirement already satisfied: patsy>=0.5 in c:\\users\\admin\\anaconda3\\lib\\site-packages (from plotly_express) (0.5.2)\n",
      "Requirement already satisfied: statsmodels>=0.9.0 in c:\\users\\admin\\anaconda3\\lib\\site-packages (from plotly_express) (0.12.2)\n",
      "Requirement already satisfied: numpy>=1.11 in c:\\users\\admin\\anaconda3\\lib\\site-packages (from plotly_express) (1.20.3)\n",
      "Requirement already satisfied: scipy>=0.18 in c:\\users\\admin\\anaconda3\\lib\\site-packages (from plotly_express) (1.7.1)\n",
      "Requirement already satisfied: plotly>=4.1.0 in c:\\users\\admin\\anaconda3\\lib\\site-packages (from plotly_express) (5.9.0)\n",
      "Requirement already satisfied: python-dateutil>=2.7.3 in c:\\users\\admin\\anaconda3\\lib\\site-packages (from pandas>=0.20.0->plotly_express) (2.8.2)\n",
      "Requirement already satisfied: pytz>=2017.3 in c:\\users\\admin\\anaconda3\\lib\\site-packages (from pandas>=0.20.0->plotly_express) (2021.3)\n",
      "Requirement already satisfied: six in c:\\users\\admin\\anaconda3\\lib\\site-packages (from patsy>=0.5->plotly_express) (1.16.0)\n",
      "Requirement already satisfied: tenacity>=6.2.0 in c:\\users\\admin\\anaconda3\\lib\\site-packages (from plotly>=4.1.0->plotly_express) (8.0.1)\n",
      "Note: you may need to restart the kernel to use updated packages.\n"
     ]
    },
    {
     "name": "stderr",
     "output_type": "stream",
     "text": [
      "WARNING: Ignoring invalid distribution -treamlit (c:\\users\\admin\\anaconda3\\lib\\site-packages)\n",
      "WARNING: Ignoring invalid distribution -illow (c:\\users\\admin\\anaconda3\\lib\\site-packages)\n",
      "WARNING: Ignoring invalid distribution -treamlit (c:\\users\\admin\\anaconda3\\lib\\site-packages)\n",
      "WARNING: Ignoring invalid distribution -illow (c:\\users\\admin\\anaconda3\\lib\\site-packages)\n",
      "WARNING: Ignoring invalid distribution -treamlit (c:\\users\\admin\\anaconda3\\lib\\site-packages)\n",
      "WARNING: Ignoring invalid distribution -illow (c:\\users\\admin\\anaconda3\\lib\\site-packages)\n",
      "WARNING: Ignoring invalid distribution -treamlit (c:\\users\\admin\\anaconda3\\lib\\site-packages)\n",
      "WARNING: Ignoring invalid distribution -illow (c:\\users\\admin\\anaconda3\\lib\\site-packages)\n",
      "WARNING: Ignoring invalid distribution -treamlit (c:\\users\\admin\\anaconda3\\lib\\site-packages)\n",
      "WARNING: Ignoring invalid distribution -illow (c:\\users\\admin\\anaconda3\\lib\\site-packages)\n",
      "WARNING: Ignoring invalid distribution -treamlit (c:\\users\\admin\\anaconda3\\lib\\site-packages)\n",
      "WARNING: Ignoring invalid distribution -illow (c:\\users\\admin\\anaconda3\\lib\\site-packages)\n"
     ]
    }
   ],
   "source": [
    "pip install plotly_express"
   ]
  },
  {
   "cell_type": "code",
   "execution_count": 63,
   "id": "84f8b501",
   "metadata": {},
   "outputs": [
    {
     "name": "stdout",
     "output_type": "stream",
     "text": [
      "Requirement already satisfied: streamlit in c:\\users\\admin\\anaconda3\\lib\\site-packages (1.11.1)Note: you may need to restart the kernel to use updated packages.\n"
     ]
    },
    {
     "name": "stderr",
     "output_type": "stream",
     "text": [
      "WARNING: Ignoring invalid distribution -treamlit (c:\\users\\admin\\anaconda3\\lib\\site-packages)\n",
      "WARNING: Ignoring invalid distribution -illow (c:\\users\\admin\\anaconda3\\lib\\site-packages)\n",
      "WARNING: Ignoring invalid distribution -treamlit (c:\\users\\admin\\anaconda3\\lib\\site-packages)\n",
      "WARNING: Ignoring invalid distribution -illow (c:\\users\\admin\\anaconda3\\lib\\site-packages)\n",
      "WARNING: Ignoring invalid distribution -treamlit (c:\\users\\admin\\anaconda3\\lib\\site-packages)\n",
      "WARNING: Ignoring invalid distribution -illow (c:\\users\\admin\\anaconda3\\lib\\site-packages)\n",
      "WARNING: Ignoring invalid distribution -treamlit (c:\\users\\admin\\anaconda3\\lib\\site-packages)\n",
      "WARNING: Ignoring invalid distribution -illow (c:\\users\\admin\\anaconda3\\lib\\site-packages)\n"
     ]
    },
    {
     "name": "stdout",
     "output_type": "stream",
     "text": [
      "\n",
      "Requirement already satisfied: typing-extensions>=3.10.0.0 in c:\\users\\admin\\anaconda3\\lib\\site-packages (from streamlit) (3.10.0.2)\n",
      "Requirement already satisfied: gitpython!=3.1.19 in c:\\users\\admin\\anaconda3\\lib\\site-packages (from streamlit) (3.1.27)\n",
      "Requirement already satisfied: pillow>=6.2.0 in c:\\users\\admin\\anaconda3\\lib\\site-packages (from streamlit) (9.2.0)\n",
      "Requirement already satisfied: importlib-metadata>=1.4 in c:\\users\\admin\\anaconda3\\lib\\site-packages (from streamlit) (4.8.1)\n",
      "Requirement already satisfied: attrs>=16.0.0 in c:\\users\\admin\\anaconda3\\lib\\site-packages (from streamlit) (21.2.0)\n",
      "Requirement already satisfied: pyarrow>=4.0 in c:\\users\\admin\\anaconda3\\lib\\site-packages (from streamlit) (7.0.0)\n",
      "Requirement already satisfied: watchdog in c:\\users\\admin\\anaconda3\\lib\\site-packages (from streamlit) (2.1.3)\n",
      "Requirement already satisfied: rich>=10.11.0 in c:\\users\\admin\\anaconda3\\lib\\site-packages (from streamlit) (12.5.1)\n",
      "Requirement already satisfied: pydeck>=0.1.dev5 in c:\\users\\admin\\anaconda3\\lib\\site-packages (from streamlit) (0.7.1)\n",
      "Requirement already satisfied: altair>=3.2.0 in c:\\users\\admin\\anaconda3\\lib\\site-packages (from streamlit) (4.2.0)\n",
      "Requirement already satisfied: tornado>=5.0 in c:\\users\\admin\\anaconda3\\lib\\site-packages (from streamlit) (6.1)\n",
      "Requirement already satisfied: semver in c:\\users\\admin\\anaconda3\\lib\\site-packages (from streamlit) (2.13.0)\n",
      "Requirement already satisfied: pympler>=0.9 in c:\\users\\admin\\anaconda3\\lib\\site-packages (from streamlit) (1.0.1)\n",
      "Requirement already satisfied: numpy in c:\\users\\admin\\anaconda3\\lib\\site-packages (from streamlit) (1.20.3)\n",
      "Requirement already satisfied: toml in c:\\users\\admin\\anaconda3\\lib\\site-packages (from streamlit) (0.10.2)\n",
      "Requirement already satisfied: cachetools>=4.0 in c:\\users\\admin\\anaconda3\\lib\\site-packages (from streamlit) (5.0.0)\n",
      "Requirement already satisfied: python-dateutil in c:\\users\\admin\\anaconda3\\lib\\site-packages (from streamlit) (2.8.2)\n",
      "Requirement already satisfied: tzlocal>=1.1 in c:\\users\\admin\\anaconda3\\lib\\site-packages (from streamlit) (4.1)\n",
      "Requirement already satisfied: requests>=2.4 in c:\\users\\admin\\anaconda3\\lib\\site-packages (from streamlit) (2.26.0)\n",
      "Requirement already satisfied: protobuf<4,>=3.12 in c:\\users\\admin\\anaconda3\\lib\\site-packages (from streamlit) (3.19.4)\n",
      "Requirement already satisfied: pandas>=0.21.0 in c:\\users\\admin\\anaconda3\\lib\\site-packages (from streamlit) (1.3.4)\n",
      "Requirement already satisfied: packaging>=14.1 in c:\\users\\admin\\anaconda3\\lib\\site-packages (from streamlit) (21.0)\n",
      "Requirement already satisfied: validators>=0.2 in c:\\users\\admin\\anaconda3\\lib\\site-packages (from streamlit) (0.18.2)\n",
      "Requirement already satisfied: blinker>=1.0.0 in c:\\users\\admin\\anaconda3\\lib\\site-packages (from streamlit) (1.4)\n",
      "Requirement already satisfied: click>=7.0 in c:\\users\\admin\\anaconda3\\lib\\site-packages (from streamlit) (8.0.3)\n",
      "Requirement already satisfied: jsonschema>=3.0 in c:\\users\\admin\\anaconda3\\lib\\site-packages (from altair>=3.2.0->streamlit) (3.2.0)\n",
      "Requirement already satisfied: entrypoints in c:\\users\\admin\\anaconda3\\lib\\site-packages (from altair>=3.2.0->streamlit) (0.3)\n",
      "Requirement already satisfied: toolz in c:\\users\\admin\\anaconda3\\lib\\site-packages (from altair>=3.2.0->streamlit) (0.11.1)\n",
      "Requirement already satisfied: jinja2 in c:\\users\\admin\\anaconda3\\lib\\site-packages (from altair>=3.2.0->streamlit) (2.11.3)\n",
      "Requirement already satisfied: colorama in c:\\users\\admin\\anaconda3\\lib\\site-packages (from click>=7.0->streamlit) (0.4.4)\n",
      "Requirement already satisfied: gitdb<5,>=4.0.1 in c:\\users\\admin\\anaconda3\\lib\\site-packages (from gitpython!=3.1.19->streamlit) (4.0.9)\n",
      "Requirement already satisfied: zipp>=0.5 in c:\\users\\admin\\anaconda3\\lib\\site-packages (from importlib-metadata>=1.4->streamlit) (3.6.0)\n",
      "Requirement already satisfied: pyparsing>=2.0.2 in c:\\users\\admin\\anaconda3\\lib\\site-packages (from packaging>=14.1->streamlit) (3.0.4)\n",
      "Requirement already satisfied: pytz>=2017.3 in c:\\users\\admin\\anaconda3\\lib\\site-packages (from pandas>=0.21.0->streamlit) (2021.3)\n",
      "Requirement already satisfied: traitlets>=4.3.2 in c:\\users\\admin\\anaconda3\\lib\\site-packages (from pydeck>=0.1.dev5->streamlit) (5.1.0)\n",
      "Requirement already satisfied: ipykernel>=5.1.2 in c:\\users\\admin\\anaconda3\\lib\\site-packages (from pydeck>=0.1.dev5->streamlit) (6.4.1)\n",
      "Requirement already satisfied: ipywidgets>=7.0.0 in c:\\users\\admin\\anaconda3\\lib\\site-packages (from pydeck>=0.1.dev5->streamlit) (7.6.5)\n",
      "Requirement already satisfied: six>=1.5 in c:\\users\\admin\\anaconda3\\lib\\site-packages (from python-dateutil->streamlit) (1.16.0)\n",
      "Requirement already satisfied: idna<4,>=2.5 in c:\\users\\admin\\anaconda3\\lib\\site-packages (from requests>=2.4->streamlit) (3.2)\n",
      "Requirement already satisfied: charset-normalizer~=2.0.0 in c:\\users\\admin\\anaconda3\\lib\\site-packages (from requests>=2.4->streamlit) (2.0.4)\n",
      "Requirement already satisfied: certifi>=2017.4.17 in c:\\users\\admin\\anaconda3\\lib\\site-packages (from requests>=2.4->streamlit) (2021.10.8)\n",
      "Requirement already satisfied: urllib3<1.27,>=1.21.1 in c:\\users\\admin\\anaconda3\\lib\\site-packages (from requests>=2.4->streamlit) (1.26.7)\n",
      "Requirement already satisfied: commonmark<0.10.0,>=0.9.0 in c:\\users\\admin\\anaconda3\\lib\\site-packages (from rich>=10.11.0->streamlit) (0.9.1)\n",
      "Requirement already satisfied: pygments<3.0.0,>=2.6.0 in c:\\users\\admin\\anaconda3\\lib\\site-packages (from rich>=10.11.0->streamlit) (2.10.0)\n",
      "Requirement already satisfied: pytz-deprecation-shim in c:\\users\\admin\\anaconda3\\lib\\site-packages (from tzlocal>=1.1->streamlit) (0.1.0.post0)\n",
      "Requirement already satisfied: tzdata in c:\\users\\admin\\anaconda3\\lib\\site-packages (from tzlocal>=1.1->streamlit) (2021.5)\n",
      "Requirement already satisfied: decorator>=3.4.0 in c:\\users\\admin\\anaconda3\\lib\\site-packages (from validators>=0.2->streamlit) (5.1.0)\n",
      "Requirement already satisfied: smmap<6,>=3.0.1 in c:\\users\\admin\\anaconda3\\lib\\site-packages (from gitdb<5,>=4.0.1->gitpython!=3.1.19->streamlit) (5.0.0)\n",
      "Requirement already satisfied: ipython-genutils in c:\\users\\admin\\anaconda3\\lib\\site-packages (from ipykernel>=5.1.2->pydeck>=0.1.dev5->streamlit) (0.2.0)\n",
      "Requirement already satisfied: matplotlib-inline<0.2.0,>=0.1.0 in c:\\users\\admin\\anaconda3\\lib\\site-packages (from ipykernel>=5.1.2->pydeck>=0.1.dev5->streamlit) (0.1.2)\n",
      "Requirement already satisfied: jupyter-client<8.0 in c:\\users\\admin\\anaconda3\\lib\\site-packages (from ipykernel>=5.1.2->pydeck>=0.1.dev5->streamlit) (6.1.12)\n",
      "Requirement already satisfied: debugpy<2.0,>=1.0.0 in c:\\users\\admin\\anaconda3\\lib\\site-packages (from ipykernel>=5.1.2->pydeck>=0.1.dev5->streamlit) (1.4.1)\n",
      "Requirement already satisfied: ipython<8.0,>=7.23.1 in c:\\users\\admin\\anaconda3\\lib\\site-packages (from ipykernel>=5.1.2->pydeck>=0.1.dev5->streamlit) (7.29.0)\n",
      "Requirement already satisfied: nbformat>=4.2.0 in c:\\users\\admin\\anaconda3\\lib\\site-packages (from ipywidgets>=7.0.0->pydeck>=0.1.dev5->streamlit) (5.1.3)\n",
      "Requirement already satisfied: jupyterlab-widgets>=1.0.0 in c:\\users\\admin\\anaconda3\\lib\\site-packages (from ipywidgets>=7.0.0->pydeck>=0.1.dev5->streamlit) (1.0.0)\n",
      "Requirement already satisfied: widgetsnbextension~=3.5.0 in c:\\users\\admin\\anaconda3\\lib\\site-packages (from ipywidgets>=7.0.0->pydeck>=0.1.dev5->streamlit) (3.5.1)\n",
      "Requirement already satisfied: MarkupSafe>=0.23 in c:\\users\\admin\\anaconda3\\lib\\site-packages (from jinja2->altair>=3.2.0->streamlit) (1.1.1)\n",
      "Requirement already satisfied: pyrsistent>=0.14.0 in c:\\users\\admin\\anaconda3\\lib\\site-packages (from jsonschema>=3.0->altair>=3.2.0->streamlit) (0.18.0)\n",
      "Requirement already satisfied: setuptools in c:\\users\\admin\\anaconda3\\lib\\site-packages (from jsonschema>=3.0->altair>=3.2.0->streamlit) (58.0.4)\n",
      "Requirement already satisfied: jedi>=0.16 in c:\\users\\admin\\anaconda3\\lib\\site-packages (from ipython<8.0,>=7.23.1->ipykernel>=5.1.2->pydeck>=0.1.dev5->streamlit) (0.18.0)\n",
      "Requirement already satisfied: pickleshare in c:\\users\\admin\\anaconda3\\lib\\site-packages (from ipython<8.0,>=7.23.1->ipykernel>=5.1.2->pydeck>=0.1.dev5->streamlit) (0.7.5)\n",
      "Requirement already satisfied: backcall in c:\\users\\admin\\anaconda3\\lib\\site-packages (from ipython<8.0,>=7.23.1->ipykernel>=5.1.2->pydeck>=0.1.dev5->streamlit) (0.2.0)\n",
      "Requirement already satisfied: prompt-toolkit!=3.0.0,!=3.0.1,<3.1.0,>=2.0.0 in c:\\users\\admin\\anaconda3\\lib\\site-packages (from ipython<8.0,>=7.23.1->ipykernel>=5.1.2->pydeck>=0.1.dev5->streamlit) (3.0.20)\n",
      "Requirement already satisfied: pyzmq>=13 in c:\\users\\admin\\anaconda3\\lib\\site-packages (from jupyter-client<8.0->ipykernel>=5.1.2->pydeck>=0.1.dev5->streamlit) (22.2.1)\n",
      "Requirement already satisfied: jupyter-core>=4.6.0 in c:\\users\\admin\\anaconda3\\lib\\site-packages (from jupyter-client<8.0->ipykernel>=5.1.2->pydeck>=0.1.dev5->streamlit) (4.8.1)\n",
      "Requirement already satisfied: notebook>=4.4.1 in c:\\users\\admin\\anaconda3\\lib\\site-packages (from widgetsnbextension~=3.5.0->ipywidgets>=7.0.0->pydeck>=0.1.dev5->streamlit) (6.4.5)\n",
      "Requirement already satisfied: parso<0.9.0,>=0.8.0 in c:\\users\\admin\\anaconda3\\lib\\site-packages (from jedi>=0.16->ipython<8.0,>=7.23.1->ipykernel>=5.1.2->pydeck>=0.1.dev5->streamlit) (0.8.2)\n",
      "Requirement already satisfied: pywin32>=1.0 in c:\\users\\admin\\anaconda3\\lib\\site-packages (from jupyter-core>=4.6.0->jupyter-client<8.0->ipykernel>=5.1.2->pydeck>=0.1.dev5->streamlit) (228)\n",
      "Requirement already satisfied: Send2Trash>=1.5.0 in c:\\users\\admin\\anaconda3\\lib\\site-packages (from notebook>=4.4.1->widgetsnbextension~=3.5.0->ipywidgets>=7.0.0->pydeck>=0.1.dev5->streamlit) (1.8.0)\n",
      "Requirement already satisfied: terminado>=0.8.3 in c:\\users\\admin\\anaconda3\\lib\\site-packages (from notebook>=4.4.1->widgetsnbextension~=3.5.0->ipywidgets>=7.0.0->pydeck>=0.1.dev5->streamlit) (0.9.4)\n",
      "Requirement already satisfied: prometheus-client in c:\\users\\admin\\anaconda3\\lib\\site-packages (from notebook>=4.4.1->widgetsnbextension~=3.5.0->ipywidgets>=7.0.0->pydeck>=0.1.dev5->streamlit) (0.11.0)\n",
      "Requirement already satisfied: argon2-cffi in c:\\users\\admin\\anaconda3\\lib\\site-packages (from notebook>=4.4.1->widgetsnbextension~=3.5.0->ipywidgets>=7.0.0->pydeck>=0.1.dev5->streamlit) (20.1.0)\n",
      "Requirement already satisfied: nbconvert in c:\\users\\admin\\anaconda3\\lib\\site-packages (from notebook>=4.4.1->widgetsnbextension~=3.5.0->ipywidgets>=7.0.0->pydeck>=0.1.dev5->streamlit) (6.1.0)\n",
      "Requirement already satisfied: wcwidth in c:\\users\\admin\\anaconda3\\lib\\site-packages (from prompt-toolkit!=3.0.0,!=3.0.1,<3.1.0,>=2.0.0->ipython<8.0,>=7.23.1->ipykernel>=5.1.2->pydeck>=0.1.dev5->streamlit) (0.2.5)\n",
      "Requirement already satisfied: pywinpty>=0.5 in c:\\users\\admin\\anaconda3\\lib\\site-packages (from terminado>=0.8.3->notebook>=4.4.1->widgetsnbextension~=3.5.0->ipywidgets>=7.0.0->pydeck>=0.1.dev5->streamlit) (0.5.7)\n",
      "Requirement already satisfied: cffi>=1.0.0 in c:\\users\\admin\\anaconda3\\lib\\site-packages (from argon2-cffi->notebook>=4.4.1->widgetsnbextension~=3.5.0->ipywidgets>=7.0.0->pydeck>=0.1.dev5->streamlit) (1.14.6)\n",
      "Requirement already satisfied: defusedxml in c:\\users\\admin\\anaconda3\\lib\\site-packages (from nbconvert->notebook>=4.4.1->widgetsnbextension~=3.5.0->ipywidgets>=7.0.0->pydeck>=0.1.dev5->streamlit) (0.7.1)\n",
      "Requirement already satisfied: nbclient<0.6.0,>=0.5.0 in c:\\users\\admin\\anaconda3\\lib\\site-packages (from nbconvert->notebook>=4.4.1->widgetsnbextension~=3.5.0->ipywidgets>=7.0.0->pydeck>=0.1.dev5->streamlit) (0.5.3)\n",
      "Requirement already satisfied: mistune<2,>=0.8.1 in c:\\users\\admin\\anaconda3\\lib\\site-packages (from nbconvert->notebook>=4.4.1->widgetsnbextension~=3.5.0->ipywidgets>=7.0.0->pydeck>=0.1.dev5->streamlit) (0.8.4)\n",
      "Requirement already satisfied: bleach in c:\\users\\admin\\anaconda3\\lib\\site-packages (from nbconvert->notebook>=4.4.1->widgetsnbextension~=3.5.0->ipywidgets>=7.0.0->pydeck>=0.1.dev5->streamlit) (4.0.0)\n",
      "Requirement already satisfied: jupyterlab-pygments in c:\\users\\admin\\anaconda3\\lib\\site-packages (from nbconvert->notebook>=4.4.1->widgetsnbextension~=3.5.0->ipywidgets>=7.0.0->pydeck>=0.1.dev5->streamlit) (0.1.2)\n"
     ]
    },
    {
     "name": "stderr",
     "output_type": "stream",
     "text": [
      "WARNING: Ignoring invalid distribution -treamlit (c:\\users\\admin\\anaconda3\\lib\\site-packages)\n",
      "WARNING: Ignoring invalid distribution -illow (c:\\users\\admin\\anaconda3\\lib\\site-packages)\n",
      "WARNING: Ignoring invalid distribution -treamlit (c:\\users\\admin\\anaconda3\\lib\\site-packages)\n",
      "WARNING: Ignoring invalid distribution -illow (c:\\users\\admin\\anaconda3\\lib\\site-packages)\n"
     ]
    },
    {
     "name": "stdout",
     "output_type": "stream",
     "text": [
      "Requirement already satisfied: pandocfilters>=1.4.1 in c:\\users\\admin\\anaconda3\\lib\\site-packages (from nbconvert->notebook>=4.4.1->widgetsnbextension~=3.5.0->ipywidgets>=7.0.0->pydeck>=0.1.dev5->streamlit) (1.4.3)\n",
      "Requirement already satisfied: testpath in c:\\users\\admin\\anaconda3\\lib\\site-packages (from nbconvert->notebook>=4.4.1->widgetsnbextension~=3.5.0->ipywidgets>=7.0.0->pydeck>=0.1.dev5->streamlit) (0.5.0)\n",
      "Requirement already satisfied: pycparser in c:\\users\\admin\\anaconda3\\lib\\site-packages (from cffi>=1.0.0->argon2-cffi->notebook>=4.4.1->widgetsnbextension~=3.5.0->ipywidgets>=7.0.0->pydeck>=0.1.dev5->streamlit) (2.20)\n",
      "Requirement already satisfied: nest-asyncio in c:\\users\\admin\\anaconda3\\lib\\site-packages (from nbclient<0.6.0,>=0.5.0->nbconvert->notebook>=4.4.1->widgetsnbextension~=3.5.0->ipywidgets>=7.0.0->pydeck>=0.1.dev5->streamlit) (1.5.1)\n",
      "Requirement already satisfied: async-generator in c:\\users\\admin\\anaconda3\\lib\\site-packages (from nbclient<0.6.0,>=0.5.0->nbconvert->notebook>=4.4.1->widgetsnbextension~=3.5.0->ipywidgets>=7.0.0->pydeck>=0.1.dev5->streamlit) (1.10)\n",
      "Requirement already satisfied: webencodings in c:\\users\\admin\\anaconda3\\lib\\site-packages (from bleach->nbconvert->notebook>=4.4.1->widgetsnbextension~=3.5.0->ipywidgets>=7.0.0->pydeck>=0.1.dev5->streamlit) (0.5.1)\n"
     ]
    }
   ],
   "source": []
  },
  {
   "cell_type": "code",
   "execution_count": null,
   "id": "d15d5fc3",
   "metadata": {},
   "outputs": [],
   "source": []
  }
 ],
 "metadata": {
  "kernelspec": {
   "display_name": "Python 3 (ipykernel)",
   "language": "python",
   "name": "python3"
  },
  "language_info": {
   "codemirror_mode": {
    "name": "ipython",
    "version": 3
   },
   "file_extension": ".py",
   "mimetype": "text/x-python",
   "name": "python",
   "nbconvert_exporter": "python",
   "pygments_lexer": "ipython3",
   "version": "3.9.7"
  }
 },
 "nbformat": 4,
 "nbformat_minor": 5
}
